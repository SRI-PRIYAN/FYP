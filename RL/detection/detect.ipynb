{
 "cells": [
  {
   "cell_type": "code",
   "execution_count": 490,
   "metadata": {},
   "outputs": [],
   "source": [
    "from prometheus_api_client import PrometheusConnect\n",
    "import numpy as np\n",
    "import pandas as pd\n",
    "from sklearn.preprocessing import StandardScaler\n",
    "import tensorflow as tf\n",
    "from tensorflow import keras\n",
    "from keras.layers import Input, Dense, Flatten, Reshape"
   ]
  },
  {
   "cell_type": "code",
   "execution_count": 2,
   "metadata": {},
   "outputs": [],
   "source": [
    "pc = PrometheusConnect(url=\"http://localhost:9090\")"
   ]
  },
  {
   "cell_type": "code",
   "execution_count": 450,
   "metadata": {},
   "outputs": [],
   "source": [
    "train_start_time = pd.Timestamp('2023-04-08T15:00:00IST')\n",
    "train_end_time = pd.Timestamp('2023-04-10T04:00:00IST')\n",
    "\n",
    "validate_start_time = pd.Timestamp('2023-04-10T04:01:00IST')\n",
    "validate_end_time = pd.Timestamp('2023-04-10T10:00:00IST')\n",
    "\n",
    "test_start_time = pd.Timestamp('2023-04-10T21:00:00IST')\n",
    "test_end_time = pd.Timestamp('2023-04-10T22:00:00IST')\n",
    "\n",
    "# anomaly_test_start_time = pd.Timestamp('2023-04-11T00:00:00IST')\n",
    "# anomaly_test_end_time = pd.Timestamp('2023-04-11T01:00:00IST')\n",
    "\n",
    "anomaly_test_start_time = pd.Timestamp('2023-04-11T17:40:00IST')\n",
    "anomaly_test_end_time = pd.Timestamp('2023-04-11T19:40:00IST')"
   ]
  },
  {
   "attachments": {},
   "cell_type": "markdown",
   "metadata": {},
   "source": [
    "### Fetch the Metrics"
   ]
  },
  {
   "cell_type": "code",
   "execution_count": 457,
   "metadata": {},
   "outputs": [],
   "source": [
    "def query_metric(query, start_time, end_time):\n",
    "    return pc.custom_query_range(query, start_time, end_time, '1m')"
   ]
  },
  {
   "cell_type": "code",
   "execution_count": 458,
   "metadata": {},
   "outputs": [],
   "source": [
    "# Returns a 2D array of size (num_values, num_nodes)\n",
    "# num_values depends on the start and end time given when fetching the metric\n",
    "def extract_values(raw_metric):\n",
    "    metric = []\n",
    "\n",
    "    scaler = StandardScaler()\n",
    "    for data in raw_metric:\n",
    "        d = np.array(data['values']).T[1]\n",
    "        scaled_d = scaler.fit_transform(d.reshape((-1, 1))).flatten()\n",
    "        metric.append(scaled_d)\n",
    "    \n",
    "    return np.array(metric, dtype=np.float64).T"
   ]
  },
  {
   "cell_type": "code",
   "execution_count": 459,
   "metadata": {},
   "outputs": [],
   "source": [
    "def get_metric(query, start_time, end_time):\n",
    "    raw_metric = query_metric(query, start_time, end_time)\n",
    "    return extract_values(raw_metric)"
   ]
  },
  {
   "attachments": {},
   "cell_type": "markdown",
   "metadata": {},
   "source": [
    "### Organize the Metric Values as Features"
   ]
  },
  {
   "cell_type": "code",
   "execution_count": 460,
   "metadata": {},
   "outputs": [],
   "source": [
    "def get_features(metrics):\n",
    "    return metrics.transpose((1, 2, 0))"
   ]
  },
  {
   "cell_type": "code",
   "execution_count": 461,
   "metadata": {},
   "outputs": [],
   "source": [
    "queries = [\n",
    "    'sum(rate(node_cpu_seconds_total{mode=\"user\"}[10m])) by (node)',\n",
    "    'node_memory_MemAvailable_bytes',\n",
    "    'sum(rate(kubelet_http_requests_total[10m])) by (kubernetes_io_hostname)',\n",
    "    '(sum(rate(node_network_transmit_bytes_total[10m])) by (node))',\n",
    "    '(sum(rate(node_network_receive_bytes_total[15m])) by (node))',\n",
    "    'sum(kubelet_running_containers{container_state=\"running\"}) by (kubernetes_io_hostname)',\n",
    "    'sum(container_processes) by (kubernetes_io_hostname)',\n",
    "    'node_sockstat_sockets_used',\n",
    "    'sum(container_sockets) by (kubernetes_io_hostname)',\n",
    "    'avg(kubelet_http_requests_duration_seconds_sum) by (kubernetes_io_hostname)'\n",
    "]"
   ]
  },
  {
   "cell_type": "code",
   "execution_count": 462,
   "metadata": {},
   "outputs": [],
   "source": [
    "m1 = get_metric(queries[0], train_start_time, train_end_time)\n",
    "m2 = get_metric(queries[1], train_start_time, train_end_time)"
   ]
  },
  {
   "cell_type": "code",
   "execution_count": 463,
   "metadata": {},
   "outputs": [
    {
     "data": {
      "text/plain": [
       "(2221, 4)"
      ]
     },
     "execution_count": 463,
     "metadata": {},
     "output_type": "execute_result"
    }
   ],
   "source": [
    "m1.shape"
   ]
  },
  {
   "cell_type": "code",
   "execution_count": 477,
   "metadata": {},
   "outputs": [],
   "source": [
    "train_metrics = np.array(\n",
    "    [get_metric(query, train_start_time, train_end_time) for query in queries]\n",
    ")\n",
    "\n",
    "x_train = get_features(train_metrics)"
   ]
  },
  {
   "cell_type": "code",
   "execution_count": 478,
   "metadata": {},
   "outputs": [],
   "source": [
    "validate_metrics = np.array(\n",
    "    [get_metric(query, validate_start_time, validate_end_time) for query in queries]\n",
    ")\n",
    "\n",
    "x_validate = get_features(validate_metrics)"
   ]
  },
  {
   "cell_type": "code",
   "execution_count": 479,
   "metadata": {},
   "outputs": [],
   "source": [
    "test_metrics = np.array(\n",
    "    [get_metric(query, test_start_time, test_end_time) for query in queries]\n",
    ")\n",
    "\n",
    "x_test = get_features(test_metrics)"
   ]
  },
  {
   "cell_type": "code",
   "execution_count": 480,
   "metadata": {},
   "outputs": [],
   "source": [
    "anomaly_test_metrics = np.array(\n",
    "    [get_metric(query, anomaly_test_start_time, anomaly_test_end_time) for query in queries]\n",
    ")\n",
    "\n",
    "x_anomaly_test = get_features(anomaly_test_metrics)"
   ]
  },
  {
   "cell_type": "code",
   "execution_count": 481,
   "metadata": {},
   "outputs": [
    {
     "data": {
      "text/plain": [
       "(2221, 4, 10)"
      ]
     },
     "execution_count": 481,
     "metadata": {},
     "output_type": "execute_result"
    }
   ],
   "source": [
    "x_train.shape"
   ]
  },
  {
   "attachments": {},
   "cell_type": "markdown",
   "metadata": {},
   "source": [
    "### Model Creation"
   ]
  },
  {
   "cell_type": "code",
   "execution_count": 482,
   "metadata": {},
   "outputs": [],
   "source": [
    "# Define the input shape\n",
    "input_shape = (4, 10)\n",
    "\n",
    "# Define the encoder layers\n",
    "encoder_input = Input(shape=input_shape)\n",
    "x1 = Flatten()(encoder_input)\n",
    "\n",
    "x2 = Dense(32, activation='relu')(x1)\n",
    "\n",
    "# Define the decoder layers\n",
    "x3 = Dense(40, activation='linear')(x2)\n",
    "decoder_output = Reshape(input_shape)(x3)"
   ]
  },
  {
   "cell_type": "code",
   "execution_count": 483,
   "metadata": {},
   "outputs": [],
   "source": [
    "autoencoder = keras.Model(encoder_input, decoder_output)"
   ]
  },
  {
   "cell_type": "code",
   "execution_count": 484,
   "metadata": {},
   "outputs": [],
   "source": [
    "autoencoder.compile(optimizer='adam', loss='mean_squared_error')"
   ]
  },
  {
   "cell_type": "code",
   "execution_count": 485,
   "metadata": {},
   "outputs": [
    {
     "name": "stdout",
     "output_type": "stream",
     "text": [
      "Model: \"model_27\"\n",
      "_________________________________________________________________\n",
      " Layer (type)                Output Shape              Param #   \n",
      "=================================================================\n",
      " input_31 (InputLayer)       [(None, 4, 10)]           0         \n",
      "                                                                 \n",
      " flatten_23 (Flatten)        (None, 40)                0         \n",
      "                                                                 \n",
      " dense_99 (Dense)            (None, 32)                1312      \n",
      "                                                                 \n",
      " dense_100 (Dense)           (None, 40)                1320      \n",
      "                                                                 \n",
      " reshape_23 (Reshape)        (None, 4, 10)             0         \n",
      "                                                                 \n",
      "=================================================================\n",
      "Total params: 2,632\n",
      "Trainable params: 2,632\n",
      "Non-trainable params: 0\n",
      "_________________________________________________________________\n"
     ]
    }
   ],
   "source": [
    "autoencoder.summary()"
   ]
  },
  {
   "cell_type": "code",
   "execution_count": 486,
   "metadata": {},
   "outputs": [
    {
     "name": "stdout",
     "output_type": "stream",
     "text": [
      "Epoch 1/200\n",
      "70/70 [==============================] - 0s 1ms/step - loss: 1.2322 - val_loss: 1.0991\n",
      "Epoch 2/200\n",
      "70/70 [==============================] - 0s 597us/step - loss: 0.9237 - val_loss: 0.9839\n",
      "Epoch 3/200\n",
      "70/70 [==============================] - 0s 605us/step - loss: 0.7562 - val_loss: 0.9036\n",
      "Epoch 4/200\n",
      "70/70 [==============================] - 0s 627us/step - loss: 0.6276 - val_loss: 0.8408\n",
      "Epoch 5/200\n",
      "70/70 [==============================] - 0s 584us/step - loss: 0.5354 - val_loss: 0.7878\n",
      "Epoch 6/200\n",
      "70/70 [==============================] - 0s 601us/step - loss: 0.4713 - val_loss: 0.7416\n",
      "Epoch 7/200\n",
      "70/70 [==============================] - 0s 1ms/step - loss: 0.4220 - val_loss: 0.7008\n",
      "Epoch 8/200\n",
      "70/70 [==============================] - 0s 771us/step - loss: 0.3806 - val_loss: 0.6650\n",
      "Epoch 9/200\n",
      "70/70 [==============================] - 0s 670us/step - loss: 0.3450 - val_loss: 0.6335\n",
      "Epoch 10/200\n",
      "70/70 [==============================] - 0s 708us/step - loss: 0.3146 - val_loss: 0.6058\n",
      "Epoch 11/200\n",
      "70/70 [==============================] - 0s 668us/step - loss: 0.2890 - val_loss: 0.5815\n",
      "Epoch 12/200\n",
      "70/70 [==============================] - 0s 687us/step - loss: 0.2673 - val_loss: 0.5599\n",
      "Epoch 13/200\n",
      "70/70 [==============================] - 0s 722us/step - loss: 0.2487 - val_loss: 0.5405\n",
      "Epoch 14/200\n",
      "70/70 [==============================] - 0s 665us/step - loss: 0.2325 - val_loss: 0.5232\n",
      "Epoch 15/200\n",
      "70/70 [==============================] - 0s 646us/step - loss: 0.2182 - val_loss: 0.5075\n",
      "Epoch 16/200\n",
      "70/70 [==============================] - 0s 684us/step - loss: 0.2053 - val_loss: 0.4931\n",
      "Epoch 17/200\n",
      "70/70 [==============================] - 0s 656us/step - loss: 0.1938 - val_loss: 0.4801\n",
      "Epoch 18/200\n",
      "70/70 [==============================] - 0s 678us/step - loss: 0.1833 - val_loss: 0.4680\n",
      "Epoch 19/200\n",
      "70/70 [==============================] - 0s 671us/step - loss: 0.1737 - val_loss: 0.4568\n",
      "Epoch 20/200\n",
      "70/70 [==============================] - 0s 598us/step - loss: 0.1648 - val_loss: 0.4462\n",
      "Epoch 21/200\n",
      "70/70 [==============================] - 0s 582us/step - loss: 0.1566 - val_loss: 0.4360\n",
      "Epoch 22/200\n",
      "70/70 [==============================] - 0s 572us/step - loss: 0.1489 - val_loss: 0.4264\n",
      "Epoch 23/200\n",
      "70/70 [==============================] - 0s 574us/step - loss: 0.1418 - val_loss: 0.4175\n",
      "Epoch 24/200\n",
      "70/70 [==============================] - 0s 568us/step - loss: 0.1350 - val_loss: 0.4089\n",
      "Epoch 25/200\n",
      "70/70 [==============================] - 0s 574us/step - loss: 0.1286 - val_loss: 0.4007\n",
      "Epoch 26/200\n",
      "70/70 [==============================] - 0s 566us/step - loss: 0.1225 - val_loss: 0.3926\n",
      "Epoch 27/200\n",
      "70/70 [==============================] - 0s 572us/step - loss: 0.1167 - val_loss: 0.3849\n",
      "Epoch 28/200\n",
      "70/70 [==============================] - 0s 578us/step - loss: 0.1110 - val_loss: 0.3772\n",
      "Epoch 29/200\n",
      "70/70 [==============================] - 0s 581us/step - loss: 0.1056 - val_loss: 0.3696\n",
      "Epoch 30/200\n",
      "70/70 [==============================] - 0s 566us/step - loss: 0.1005 - val_loss: 0.3623\n",
      "Epoch 31/200\n",
      "70/70 [==============================] - 0s 575us/step - loss: 0.0955 - val_loss: 0.3549\n",
      "Epoch 32/200\n",
      "70/70 [==============================] - 0s 569us/step - loss: 0.0907 - val_loss: 0.3478\n",
      "Epoch 33/200\n",
      "70/70 [==============================] - 0s 568us/step - loss: 0.0862 - val_loss: 0.3407\n",
      "Epoch 34/200\n",
      "70/70 [==============================] - 0s 573us/step - loss: 0.0818 - val_loss: 0.3340\n",
      "Epoch 35/200\n",
      "70/70 [==============================] - 0s 569us/step - loss: 0.0776 - val_loss: 0.3276\n",
      "Epoch 36/200\n",
      "70/70 [==============================] - 0s 568us/step - loss: 0.0737 - val_loss: 0.3213\n",
      "Epoch 37/200\n",
      "70/70 [==============================] - 0s 558us/step - loss: 0.0699 - val_loss: 0.3155\n",
      "Epoch 38/200\n",
      "70/70 [==============================] - 0s 554us/step - loss: 0.0664 - val_loss: 0.3098\n",
      "Epoch 39/200\n",
      "70/70 [==============================] - 0s 565us/step - loss: 0.0630 - val_loss: 0.3042\n",
      "Epoch 40/200\n",
      "70/70 [==============================] - 0s 562us/step - loss: 0.0598 - val_loss: 0.2990\n",
      "Epoch 41/200\n",
      "70/70 [==============================] - 0s 570us/step - loss: 0.0567 - val_loss: 0.2939\n",
      "Epoch 42/200\n",
      "70/70 [==============================] - 0s 563us/step - loss: 0.0538 - val_loss: 0.2889\n",
      "Epoch 43/200\n",
      "70/70 [==============================] - 0s 569us/step - loss: 0.0511 - val_loss: 0.2839\n",
      "Epoch 44/200\n",
      "70/70 [==============================] - 0s 575us/step - loss: 0.0486 - val_loss: 0.2792\n",
      "Epoch 45/200\n",
      "70/70 [==============================] - 0s 592us/step - loss: 0.0462 - val_loss: 0.2747\n",
      "Epoch 46/200\n",
      "70/70 [==============================] - 0s 679us/step - loss: 0.0440 - val_loss: 0.2700\n",
      "Epoch 47/200\n",
      "70/70 [==============================] - 0s 623us/step - loss: 0.0420 - val_loss: 0.2656\n",
      "Epoch 48/200\n",
      "70/70 [==============================] - 0s 630us/step - loss: 0.0401 - val_loss: 0.2613\n",
      "Epoch 49/200\n",
      "70/70 [==============================] - 0s 637us/step - loss: 0.0383 - val_loss: 0.2573\n",
      "Epoch 50/200\n",
      "70/70 [==============================] - 0s 701us/step - loss: 0.0367 - val_loss: 0.2534\n",
      "Epoch 51/200\n",
      "70/70 [==============================] - 0s 728us/step - loss: 0.0352 - val_loss: 0.2497\n",
      "Epoch 52/200\n",
      "70/70 [==============================] - 0s 701us/step - loss: 0.0339 - val_loss: 0.2461\n",
      "Epoch 53/200\n",
      "70/70 [==============================] - 0s 760us/step - loss: 0.0326 - val_loss: 0.2426\n",
      "Epoch 54/200\n",
      "70/70 [==============================] - 0s 693us/step - loss: 0.0315 - val_loss: 0.2392\n",
      "Epoch 55/200\n",
      "70/70 [==============================] - 0s 713us/step - loss: 0.0304 - val_loss: 0.2360\n",
      "Epoch 56/200\n",
      "70/70 [==============================] - 0s 707us/step - loss: 0.0294 - val_loss: 0.2328\n",
      "Epoch 57/200\n",
      "70/70 [==============================] - 0s 700us/step - loss: 0.0286 - val_loss: 0.2299\n",
      "Epoch 58/200\n",
      "70/70 [==============================] - 0s 855us/step - loss: 0.0278 - val_loss: 0.2272\n",
      "Epoch 59/200\n",
      "70/70 [==============================] - 0s 686us/step - loss: 0.0271 - val_loss: 0.2245\n",
      "Epoch 60/200\n",
      "70/70 [==============================] - 0s 696us/step - loss: 0.0265 - val_loss: 0.2219\n",
      "Epoch 61/200\n",
      "70/70 [==============================] - 0s 653us/step - loss: 0.0259 - val_loss: 0.2194\n",
      "Epoch 62/200\n",
      "70/70 [==============================] - 0s 724us/step - loss: 0.0253 - val_loss: 0.2172\n",
      "Epoch 63/200\n",
      "70/70 [==============================] - 0s 764us/step - loss: 0.0250 - val_loss: 0.2156\n",
      "Epoch 64/200\n",
      "70/70 [==============================] - 0s 710us/step - loss: 0.0251 - val_loss: 0.2147\n",
      "Epoch 65/200\n",
      "70/70 [==============================] - 0s 706us/step - loss: 0.0252 - val_loss: 0.2132\n",
      "Epoch 66/200\n",
      "70/70 [==============================] - 0s 713us/step - loss: 0.0249 - val_loss: 0.2124\n",
      "Epoch 67/200\n",
      "70/70 [==============================] - 0s 718us/step - loss: 0.0251 - val_loss: 0.2119\n",
      "Epoch 68/200\n",
      "70/70 [==============================] - 0s 718us/step - loss: 0.0250 - val_loss: 0.2103\n",
      "Epoch 69/200\n",
      "70/70 [==============================] - 0s 679us/step - loss: 0.0264 - val_loss: 0.2078\n",
      "Epoch 70/200\n",
      "70/70 [==============================] - 0s 599us/step - loss: 0.0278 - val_loss: 0.2033\n",
      "Epoch 71/200\n",
      "70/70 [==============================] - 0s 584us/step - loss: 0.0270 - val_loss: 0.2042\n",
      "Epoch 72/200\n",
      "70/70 [==============================] - 0s 596us/step - loss: 0.0259 - val_loss: 0.2049\n",
      "Epoch 73/200\n",
      "70/70 [==============================] - 0s 594us/step - loss: 0.0248 - val_loss: 0.2045\n",
      "Epoch 74/200\n",
      "70/70 [==============================] - 0s 631us/step - loss: 0.0243 - val_loss: 0.2057\n",
      "Epoch 75/200\n",
      "70/70 [==============================] - 0s 625us/step - loss: 0.0245 - val_loss: 0.2031\n",
      "Epoch 76/200\n",
      "70/70 [==============================] - 0s 1ms/step - loss: 0.0229 - val_loss: 0.1978\n",
      "Epoch 77/200\n",
      "70/70 [==============================] - 0s 719us/step - loss: 0.0233 - val_loss: 0.1925\n",
      "Epoch 78/200\n",
      "70/70 [==============================] - 0s 734us/step - loss: 0.0241 - val_loss: 0.1961\n",
      "Epoch 79/200\n",
      "70/70 [==============================] - 0s 704us/step - loss: 0.0236 - val_loss: 0.2021\n",
      "Epoch 80/200\n",
      "70/70 [==============================] - 0s 715us/step - loss: 0.0224 - val_loss: 0.1961\n",
      "Epoch 81/200\n",
      "70/70 [==============================] - 0s 795us/step - loss: 0.0224 - val_loss: 0.1881\n",
      "Epoch 82/200\n",
      "70/70 [==============================] - 0s 764us/step - loss: 0.0219 - val_loss: 0.1894\n",
      "Epoch 83/200\n",
      "70/70 [==============================] - 0s 715us/step - loss: 0.0215 - val_loss: 0.1957\n",
      "Epoch 84/200\n",
      "70/70 [==============================] - 0s 718us/step - loss: 0.0211 - val_loss: 0.1878\n",
      "Epoch 85/200\n",
      "70/70 [==============================] - 0s 696us/step - loss: 0.0200 - val_loss: 0.1829\n",
      "Epoch 86/200\n",
      "70/70 [==============================] - 0s 718us/step - loss: 0.0206 - val_loss: 0.1835\n",
      "Epoch 87/200\n",
      "70/70 [==============================] - 0s 848us/step - loss: 0.0201 - val_loss: 0.1933\n",
      "Epoch 88/200\n",
      "70/70 [==============================] - 0s 778us/step - loss: 0.0200 - val_loss: 0.1869\n",
      "Epoch 89/200\n",
      "70/70 [==============================] - 0s 722us/step - loss: 0.0197 - val_loss: 0.1777\n",
      "Epoch 90/200\n",
      "70/70 [==============================] - 0s 727us/step - loss: 0.0198 - val_loss: 0.1769\n",
      "Epoch 91/200\n",
      "70/70 [==============================] - 0s 699us/step - loss: 0.0195 - val_loss: 0.1874\n",
      "Epoch 92/200\n",
      "70/70 [==============================] - 0s 684us/step - loss: 0.0194 - val_loss: 0.1861\n",
      "Epoch 93/200\n",
      "70/70 [==============================] - 0s 719us/step - loss: 0.0189 - val_loss: 0.1758\n",
      "Epoch 94/200\n",
      "70/70 [==============================] - 0s 671us/step - loss: 0.0189 - val_loss: 0.1718\n",
      "Epoch 95/200\n",
      "70/70 [==============================] - 0s 657us/step - loss: 0.0187 - val_loss: 0.1793\n",
      "Epoch 96/200\n",
      "70/70 [==============================] - 0s 666us/step - loss: 0.0187 - val_loss: 0.1841\n",
      "Epoch 97/200\n",
      "70/70 [==============================] - 0s 608us/step - loss: 0.0187 - val_loss: 0.1761\n",
      "Epoch 98/200\n",
      "70/70 [==============================] - 0s 588us/step - loss: 0.0199 - val_loss: 0.1684\n",
      "Epoch 99/200\n",
      "70/70 [==============================] - 0s 642us/step - loss: 0.0189 - val_loss: 0.1738\n",
      "Epoch 100/200\n",
      "70/70 [==============================] - 0s 689us/step - loss: 0.0186 - val_loss: 0.1797\n",
      "Epoch 101/200\n",
      "70/70 [==============================] - 0s 694us/step - loss: 0.0188 - val_loss: 0.1742\n",
      "Epoch 102/200\n",
      "70/70 [==============================] - 0s 692us/step - loss: 0.0190 - val_loss: 0.1695\n",
      "Epoch 103/200\n",
      "70/70 [==============================] - 0s 619us/step - loss: 0.0210 - val_loss: 0.1720\n",
      "Epoch 104/200\n",
      "70/70 [==============================] - 0s 575us/step - loss: 0.0204 - val_loss: 0.1774\n",
      "Epoch 105/200\n",
      "70/70 [==============================] - 0s 586us/step - loss: 0.0190 - val_loss: 0.1760\n",
      "Epoch 106/200\n",
      "70/70 [==============================] - 0s 674us/step - loss: 0.0201 - val_loss: 0.1667\n",
      "Epoch 107/200\n",
      "70/70 [==============================] - 0s 695us/step - loss: 0.0191 - val_loss: 0.1647\n",
      "Epoch 108/200\n",
      "70/70 [==============================] - 0s 682us/step - loss: 0.0189 - val_loss: 0.1686\n",
      "Epoch 109/200\n",
      "70/70 [==============================] - 0s 594us/step - loss: 0.0196 - val_loss: 0.1717\n",
      "Epoch 110/200\n",
      "70/70 [==============================] - 0s 580us/step - loss: 0.0178 - val_loss: 0.1718\n",
      "Epoch 111/200\n",
      "70/70 [==============================] - 0s 629us/step - loss: 0.0189 - val_loss: 0.1643\n",
      "Epoch 112/200\n",
      "70/70 [==============================] - 0s 677us/step - loss: 0.0193 - val_loss: 0.1631\n",
      "Epoch 113/200\n",
      "70/70 [==============================] - 0s 697us/step - loss: 0.0184 - val_loss: 0.1698\n",
      "Epoch 114/200\n",
      "70/70 [==============================] - 0s 1ms/step - loss: 0.0178 - val_loss: 0.1690\n",
      "Epoch 115/200\n",
      "70/70 [==============================] - 0s 703us/step - loss: 0.0166 - val_loss: 0.1613\n",
      "Epoch 116/200\n",
      "70/70 [==============================] - 0s 682us/step - loss: 0.0172 - val_loss: 0.1573\n",
      "Epoch 117/200\n",
      "70/70 [==============================] - 0s 690us/step - loss: 0.0166 - val_loss: 0.1621\n",
      "Epoch 118/200\n",
      "70/70 [==============================] - 0s 688us/step - loss: 0.0160 - val_loss: 0.1664\n",
      "Epoch 119/200\n",
      "70/70 [==============================] - 0s 694us/step - loss: 0.0158 - val_loss: 0.1597\n",
      "Epoch 120/200\n",
      "70/70 [==============================] - 0s 705us/step - loss: 0.0159 - val_loss: 0.1565\n",
      "Epoch 121/200\n",
      "70/70 [==============================] - 0s 723us/step - loss: 0.0159 - val_loss: 0.1585\n",
      "Epoch 122/200\n",
      "70/70 [==============================] - 0s 717us/step - loss: 0.0165 - val_loss: 0.1602\n",
      "Epoch 123/200\n",
      "70/70 [==============================] - 0s 697us/step - loss: 0.0163 - val_loss: 0.1580\n",
      "Epoch 124/200\n",
      "70/70 [==============================] - 0s 680us/step - loss: 0.0164 - val_loss: 0.1561\n",
      "Epoch 125/200\n",
      "70/70 [==============================] - 0s 678us/step - loss: 0.0155 - val_loss: 0.1589\n",
      "Epoch 126/200\n",
      "70/70 [==============================] - 0s 666us/step - loss: 0.0156 - val_loss: 0.1587\n",
      "Epoch 127/200\n",
      "70/70 [==============================] - 0s 610us/step - loss: 0.0162 - val_loss: 0.1538\n",
      "Epoch 128/200\n",
      "70/70 [==============================] - 0s 668us/step - loss: 0.0153 - val_loss: 0.1544\n",
      "Epoch 129/200\n",
      "70/70 [==============================] - 0s 743us/step - loss: 0.0163 - val_loss: 0.1537\n",
      "Epoch 130/200\n",
      "70/70 [==============================] - 0s 737us/step - loss: 0.0157 - val_loss: 0.1557\n",
      "Epoch 131/200\n",
      "70/70 [==============================] - 0s 680us/step - loss: 0.0162 - val_loss: 0.1533\n",
      "Epoch 132/200\n",
      "70/70 [==============================] - 0s 664us/step - loss: 0.0161 - val_loss: 0.1518\n",
      "Epoch 133/200\n",
      "70/70 [==============================] - 0s 634us/step - loss: 0.0159 - val_loss: 0.1548\n",
      "Epoch 134/200\n",
      "70/70 [==============================] - 0s 791us/step - loss: 0.0177 - val_loss: 0.1551\n",
      "Epoch 135/200\n",
      "70/70 [==============================] - 0s 618us/step - loss: 0.0164 - val_loss: 0.1529\n",
      "Epoch 136/200\n",
      "70/70 [==============================] - 0s 619us/step - loss: 0.0172 - val_loss: 0.1498\n",
      "Epoch 137/200\n",
      "70/70 [==============================] - 0s 625us/step - loss: 0.0161 - val_loss: 0.1495\n",
      "Epoch 138/200\n",
      "70/70 [==============================] - 0s 622us/step - loss: 0.0167 - val_loss: 0.1518\n",
      "Epoch 139/200\n",
      "70/70 [==============================] - 0s 609us/step - loss: 0.0168 - val_loss: 0.1523\n",
      "Epoch 140/200\n",
      "70/70 [==============================] - 0s 609us/step - loss: 0.0161 - val_loss: 0.1485\n",
      "Epoch 141/200\n",
      "70/70 [==============================] - 0s 598us/step - loss: 0.0152 - val_loss: 0.1455\n",
      "Epoch 142/200\n",
      "70/70 [==============================] - 0s 624us/step - loss: 0.0149 - val_loss: 0.1462\n",
      "Epoch 143/200\n",
      "70/70 [==============================] - 0s 621us/step - loss: 0.0155 - val_loss: 0.1474\n",
      "Epoch 144/200\n",
      "70/70 [==============================] - 0s 678us/step - loss: 0.0162 - val_loss: 0.1452\n",
      "Epoch 145/200\n",
      "70/70 [==============================] - 0s 670us/step - loss: 0.0150 - val_loss: 0.1427\n",
      "Epoch 146/200\n",
      "70/70 [==============================] - 0s 652us/step - loss: 0.0156 - val_loss: 0.1447\n",
      "Epoch 147/200\n",
      "70/70 [==============================] - 0s 617us/step - loss: 0.0170 - val_loss: 0.1467\n",
      "Epoch 148/200\n",
      "70/70 [==============================] - 0s 728us/step - loss: 0.0154 - val_loss: 0.1473\n",
      "Epoch 149/200\n",
      "70/70 [==============================] - 0s 619us/step - loss: 0.0159 - val_loss: 0.1436\n",
      "Epoch 150/200\n",
      "70/70 [==============================] - 0s 632us/step - loss: 0.0165 - val_loss: 0.1390\n",
      "Epoch 151/200\n",
      "70/70 [==============================] - 0s 620us/step - loss: 0.0163 - val_loss: 0.1477\n",
      "Epoch 152/200\n",
      "70/70 [==============================] - 0s 596us/step - loss: 0.0165 - val_loss: 0.1509\n",
      "Epoch 153/200\n",
      "70/70 [==============================] - 0s 893us/step - loss: 0.0167 - val_loss: 0.1449\n",
      "Epoch 154/200\n",
      "70/70 [==============================] - 0s 649us/step - loss: 0.0166 - val_loss: 0.1394\n",
      "Epoch 155/200\n",
      "70/70 [==============================] - 0s 602us/step - loss: 0.0166 - val_loss: 0.1421\n",
      "Epoch 156/200\n",
      "70/70 [==============================] - 0s 600us/step - loss: 0.0155 - val_loss: 0.1426\n",
      "Epoch 157/200\n",
      "70/70 [==============================] - 0s 629us/step - loss: 0.0132 - val_loss: 0.1437\n",
      "Epoch 158/200\n",
      "70/70 [==============================] - 0s 627us/step - loss: 0.0143 - val_loss: 0.1360\n",
      "Epoch 159/200\n",
      "70/70 [==============================] - 0s 623us/step - loss: 0.0133 - val_loss: 0.1353\n",
      "Epoch 160/200\n",
      "70/70 [==============================] - 0s 636us/step - loss: 0.0140 - val_loss: 0.1376\n",
      "Epoch 161/200\n",
      "70/70 [==============================] - 0s 628us/step - loss: 0.0125 - val_loss: 0.1392\n",
      "Epoch 162/200\n",
      "70/70 [==============================] - 0s 726us/step - loss: 0.0122 - val_loss: 0.1371\n",
      "Epoch 163/200\n",
      "70/70 [==============================] - 0s 653us/step - loss: 0.0141 - val_loss: 0.1335\n",
      "Epoch 164/200\n",
      "70/70 [==============================] - 0s 668us/step - loss: 0.0136 - val_loss: 0.1381\n",
      "Epoch 165/200\n",
      "70/70 [==============================] - 0s 670us/step - loss: 0.0142 - val_loss: 0.1384\n",
      "Epoch 166/200\n",
      "70/70 [==============================] - 0s 654us/step - loss: 0.0138 - val_loss: 0.1384\n",
      "Epoch 167/200\n",
      "70/70 [==============================] - 0s 639us/step - loss: 0.0155 - val_loss: 0.1344\n",
      "Epoch 168/200\n",
      "70/70 [==============================] - 0s 631us/step - loss: 0.0155 - val_loss: 0.1347\n",
      "Epoch 169/200\n",
      "70/70 [==============================] - 0s 655us/step - loss: 0.0142 - val_loss: 0.1384\n",
      "Epoch 170/200\n",
      "70/70 [==============================] - 0s 640us/step - loss: 0.0145 - val_loss: 0.1370\n",
      "Epoch 171/200\n",
      "70/70 [==============================] - 0s 610us/step - loss: 0.0133 - val_loss: 0.1373\n",
      "Epoch 172/200\n",
      "70/70 [==============================] - 0s 609us/step - loss: 0.0138 - val_loss: 0.1336\n",
      "Epoch 173/200\n",
      "70/70 [==============================] - 0s 620us/step - loss: 0.0126 - val_loss: 0.1327\n",
      "Epoch 174/200\n",
      "70/70 [==============================] - 0s 1ms/step - loss: 0.0138 - val_loss: 0.1329\n",
      "Epoch 175/200\n",
      "70/70 [==============================] - 0s 716us/step - loss: 0.0125 - val_loss: 0.1351\n",
      "Epoch 176/200\n",
      "70/70 [==============================] - 0s 620us/step - loss: 0.0129 - val_loss: 0.1314\n",
      "Epoch 177/200\n",
      "70/70 [==============================] - 0s 629us/step - loss: 0.0128 - val_loss: 0.1317\n",
      "Epoch 178/200\n",
      "70/70 [==============================] - 0s 612us/step - loss: 0.0120 - val_loss: 0.1324\n",
      "Epoch 179/200\n",
      "70/70 [==============================] - 0s 609us/step - loss: 0.0111 - val_loss: 0.1313\n",
      "Epoch 180/200\n",
      "70/70 [==============================] - 0s 614us/step - loss: 0.0116 - val_loss: 0.1307\n",
      "Epoch 181/200\n",
      "70/70 [==============================] - 0s 596us/step - loss: 0.0122 - val_loss: 0.1294\n",
      "Epoch 182/200\n",
      "70/70 [==============================] - 0s 616us/step - loss: 0.0117 - val_loss: 0.1333\n",
      "Epoch 183/200\n",
      "70/70 [==============================] - 0s 615us/step - loss: 0.0126 - val_loss: 0.1323\n",
      "Epoch 184/200\n",
      "70/70 [==============================] - 0s 608us/step - loss: 0.0127 - val_loss: 0.1319\n",
      "Epoch 185/200\n",
      "70/70 [==============================] - 0s 630us/step - loss: 0.0135 - val_loss: 0.1311\n",
      "Epoch 186/200\n",
      "70/70 [==============================] - 0s 612us/step - loss: 0.0140 - val_loss: 0.1328\n",
      "Epoch 187/200\n",
      "70/70 [==============================] - 0s 691us/step - loss: 0.0155 - val_loss: 0.1344\n",
      "Epoch 188/200\n",
      "70/70 [==============================] - 0s 615us/step - loss: 0.0151 - val_loss: 0.1321\n",
      "Epoch 189/200\n",
      "70/70 [==============================] - 0s 620us/step - loss: 0.0140 - val_loss: 0.1341\n",
      "Epoch 190/200\n",
      "70/70 [==============================] - 0s 609us/step - loss: 0.0157 - val_loss: 0.1311\n",
      "Epoch 191/200\n",
      "70/70 [==============================] - 0s 604us/step - loss: 0.0140 - val_loss: 0.1322\n",
      "Epoch 192/200\n",
      "70/70 [==============================] - 0s 617us/step - loss: 0.0145 - val_loss: 0.1304\n",
      "Epoch 193/200\n",
      "70/70 [==============================] - 0s 579us/step - loss: 0.0139 - val_loss: 0.1291\n",
      "Epoch 194/200\n",
      "70/70 [==============================] - 0s 615us/step - loss: 0.0147 - val_loss: 0.1279\n",
      "Epoch 195/200\n",
      "70/70 [==============================] - 0s 593us/step - loss: 0.0126 - val_loss: 0.1302\n",
      "Epoch 196/200\n",
      "70/70 [==============================] - 0s 625us/step - loss: 0.0128 - val_loss: 0.1324\n",
      "Epoch 197/200\n",
      "70/70 [==============================] - 0s 606us/step - loss: 0.0132 - val_loss: 0.1284\n",
      "Epoch 198/200\n",
      "70/70 [==============================] - 0s 600us/step - loss: 0.0128 - val_loss: 0.1271\n",
      "Epoch 199/200\n",
      "70/70 [==============================] - 0s 613us/step - loss: 0.0122 - val_loss: 0.1286\n",
      "Epoch 200/200\n",
      "70/70 [==============================] - 0s 605us/step - loss: 0.0130 - val_loss: 0.1321\n"
     ]
    },
    {
     "data": {
      "text/plain": [
       "<keras.callbacks.History at 0x29faac310>"
      ]
     },
     "execution_count": 486,
     "metadata": {},
     "output_type": "execute_result"
    }
   ],
   "source": [
    "autoencoder.fit(x_train, x_train,\n",
    "                epochs=200,\n",
    "                shuffle=False,\n",
    "                validation_data=(x_validate, x_validate))"
   ]
  },
  {
   "cell_type": "code",
   "execution_count": 487,
   "metadata": {},
   "outputs": [
    {
     "name": "stdout",
     "output_type": "stream",
     "text": [
      "2/2 [==============================] - 0s 1ms/step\n"
     ]
    },
    {
     "data": {
      "text/plain": [
       "array([0.1745083 , 0.06739435, 0.15302552, 0.07193125])"
      ]
     },
     "execution_count": 487,
     "metadata": {},
     "output_type": "execute_result"
    }
   ],
   "source": [
    "predictions = autoencoder.predict(x_test)\n",
    "np.mean((predictions - x_test) ** 2, axis=(2, 0))"
   ]
  },
  {
   "cell_type": "code",
   "execution_count": 502,
   "metadata": {},
   "outputs": [
    {
     "name": "stdout",
     "output_type": "stream",
     "text": [
      "4/4 [==============================] - 0s 500us/step\n"
     ]
    },
    {
     "data": {
      "text/plain": [
       "array([0.29439865, 0.12986821, 0.18996151, 0.09072823])"
      ]
     },
     "execution_count": 502,
     "metadata": {},
     "output_type": "execute_result"
    }
   ],
   "source": [
    "predictions = autoencoder.predict(x_anomaly_test)\n",
    "np.mean((predictions - x_anomaly_test) ** 2, axis=(2, 0))"
   ]
  },
  {
   "cell_type": "code",
   "execution_count": 497,
   "metadata": {},
   "outputs": [
    {
     "name": "stdout",
     "output_type": "stream",
     "text": [
      "70/70 [==============================] - 0s 458us/step\n"
     ]
    },
    {
     "data": {
      "text/plain": [
       "array([0.02057845, 0.02326927, 0.01746798, 0.01508893])"
      ]
     },
     "execution_count": 497,
     "metadata": {},
     "output_type": "execute_result"
    }
   ],
   "source": [
    "predictions = autoencoder.predict(x_train)\n",
    "np.mean((predictions - x_train) ** 2, axis=(2, 0))"
   ]
  },
  {
   "attachments": {},
   "cell_type": "markdown",
   "metadata": {},
   "source": [
    "### Detect Attack"
   ]
  },
  {
   "cell_type": "code",
   "execution_count": 534,
   "metadata": {},
   "outputs": [],
   "source": [
    "nodeNumberToName = {\n",
    "    0: 'gke-cluster-1-default-pool-a33b274c-9t2g',\n",
    "    1: 'gke-cluster-1-default-pool-a33b274c-g246',\n",
    "    2: 'gke-cluster-1-default-pool-a33b274c-hsm7',\n",
    "    3: 'gke-cluster-1-default-pool-a33b274c-z3f4',\n",
    "}\n",
    "\n",
    "def getNodeName(nodeNumber):\n",
    "    return nodeNumberToName[nodeNumber]"
   ]
  },
  {
   "cell_type": "code",
   "execution_count": 538,
   "metadata": {},
   "outputs": [],
   "source": [
    "def get_attacked_nodes(x, threshold):\n",
    "    predictions = autoencoder.predict(x)\n",
    "    error = np.mean((predictions - x) ** 2, axis=(2, 0))\n",
    "    print(f'error => {error}')\n",
    "    nodeNumbers = np.where(error > threshold)[0]\n",
    "    return [getNodeName(nodeNumber) for nodeNumber in nodeNumbers]"
   ]
  },
  {
   "cell_type": "code",
   "execution_count": 541,
   "metadata": {},
   "outputs": [
    {
     "name": "stdout",
     "output_type": "stream",
     "text": [
      "4/4 [==============================] - 0s 3ms/step\n",
      "error => [0.29439865 0.12986821 0.18996151 0.09072823]\n"
     ]
    }
   ],
   "source": [
    "attacked_nodes = get_attacked_nodes(x_anomaly_test, 0.25)"
   ]
  },
  {
   "cell_type": "code",
   "execution_count": 542,
   "metadata": {},
   "outputs": [
    {
     "data": {
      "text/plain": [
       "['gke-cluster-1-default-pool-a33b274c-9t2g']"
      ]
     },
     "execution_count": 542,
     "metadata": {},
     "output_type": "execute_result"
    }
   ],
   "source": [
    "attacked_nodes"
   ]
  },
  {
   "cell_type": "code",
   "execution_count": null,
   "metadata": {},
   "outputs": [],
   "source": []
  }
 ],
 "metadata": {
  "kernelspec": {
   "display_name": "Python 3",
   "language": "python",
   "name": "python3"
  },
  "language_info": {
   "codemirror_mode": {
    "name": "ipython",
    "version": 3
   },
   "file_extension": ".py",
   "mimetype": "text/x-python",
   "name": "python",
   "nbconvert_exporter": "python",
   "pygments_lexer": "ipython3",
   "version": "3.10.10"
  },
  "orig_nbformat": 4
 },
 "nbformat": 4,
 "nbformat_minor": 2
}
