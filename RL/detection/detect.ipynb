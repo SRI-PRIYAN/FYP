{
 "cells": [
  {
   "cell_type": "code",
   "execution_count": 1,
   "metadata": {},
   "outputs": [],
   "source": [
    "from prometheus_api_client import PrometheusConnect\n",
    "import numpy as np\n",
    "import pandas as pd\n",
    "from sklearn.preprocessing import StandardScaler\n",
    "import tensorflow as tf\n",
    "from tensorflow import keras\n",
    "from keras.layers import Input, Dense, Flatten, Reshape"
   ]
  },
  {
   "cell_type": "code",
   "execution_count": 2,
   "metadata": {},
   "outputs": [],
   "source": [
    "pc = PrometheusConnect(url=\"http://localhost:9090\")"
   ]
  },
  {
   "cell_type": "code",
   "execution_count": 28,
   "metadata": {},
   "outputs": [],
   "source": [
    "train_start_time = pd.Timestamp('2023-04-08T15:00:00IST')\n",
    "train_end_time = pd.Timestamp('2023-04-10T04:00:00IST')\n",
    "\n",
    "validate_start_time = pd.Timestamp('2023-04-10T04:01:00IST')\n",
    "validate_end_time = pd.Timestamp('2023-04-10T10:00:00IST')\n",
    "\n",
    "test_start_time = pd.Timestamp('2023-04-12T20:05:00IST')\n",
    "test_end_time = pd.Timestamp('2023-04-12T21:45:00IST')\n",
    "\n",
    "# anomaly_test_start_time = pd.Timestamp('2023-04-11T00:00:00IST')\n",
    "# anomaly_test_end_time = pd.Timestamp('2023-04-11T01:00:00IST')\n",
    "\n",
    "anomaly_test_start_time = pd.Timestamp('2023-04-11T17:40:00IST')\n",
    "anomaly_test_end_time = pd.Timestamp('2023-04-11T19:40:00IST')"
   ]
  },
  {
   "attachments": {},
   "cell_type": "markdown",
   "metadata": {},
   "source": [
    "### Fetch the Metrics"
   ]
  },
  {
   "cell_type": "code",
   "execution_count": 4,
   "metadata": {},
   "outputs": [],
   "source": [
    "def query_metric(query, start_time, end_time):\n",
    "    return pc.custom_query_range(query, start_time, end_time, '1m')"
   ]
  },
  {
   "cell_type": "code",
   "execution_count": 5,
   "metadata": {},
   "outputs": [],
   "source": [
    "# Returns a 2D array of size (num_values, num_nodes)\n",
    "# num_values depends on the start and end time given when fetching the metric\n",
    "def extract_values(raw_metric):\n",
    "    metric = []\n",
    "\n",
    "    scaler = StandardScaler()\n",
    "    for data in raw_metric:\n",
    "        d = np.array(data['values']).T[1]\n",
    "        scaled_d = scaler.fit_transform(d.reshape((-1, 1))).flatten()\n",
    "        metric.append(scaled_d)\n",
    "    \n",
    "    return np.array(metric, dtype=np.float64).T"
   ]
  },
  {
   "cell_type": "code",
   "execution_count": 6,
   "metadata": {},
   "outputs": [],
   "source": [
    "def get_metric(query, start_time, end_time):\n",
    "    raw_metric = query_metric(query, start_time, end_time)\n",
    "    return extract_values(raw_metric)"
   ]
  },
  {
   "attachments": {},
   "cell_type": "markdown",
   "metadata": {},
   "source": [
    "### Organize the Metric Values as Features"
   ]
  },
  {
   "cell_type": "code",
   "execution_count": 7,
   "metadata": {},
   "outputs": [],
   "source": [
    "def get_features(metrics):\n",
    "    return metrics.transpose((1, 2, 0))"
   ]
  },
  {
   "cell_type": "code",
   "execution_count": 8,
   "metadata": {},
   "outputs": [],
   "source": [
    "queries = [\n",
    "    'sum(rate(node_cpu_seconds_total{mode=\"user\"}[10m])) by (node)',\n",
    "    'node_memory_MemAvailable_bytes',\n",
    "    'sum(rate(kubelet_http_requests_total[10m])) by (kubernetes_io_hostname)',\n",
    "    '(sum(rate(node_network_transmit_bytes_total[10m])) by (node))',\n",
    "    '(sum(rate(node_network_receive_bytes_total[15m])) by (node))',\n",
    "    'sum(kubelet_running_containers{container_state=\"running\"}) by (kubernetes_io_hostname)',\n",
    "    'sum(container_processes) by (kubernetes_io_hostname)',\n",
    "    'node_sockstat_sockets_used',\n",
    "    'sum(container_sockets) by (kubernetes_io_hostname)',\n",
    "    'avg(kubelet_http_requests_duration_seconds_sum) by (kubernetes_io_hostname)'\n",
    "]"
   ]
  },
  {
   "cell_type": "code",
   "execution_count": 9,
   "metadata": {},
   "outputs": [],
   "source": [
    "m1 = get_metric(queries[0], train_start_time, train_end_time)\n",
    "m2 = get_metric(queries[1], train_start_time, train_end_time)"
   ]
  },
  {
   "cell_type": "code",
   "execution_count": 10,
   "metadata": {},
   "outputs": [
    {
     "data": {
      "text/plain": [
       "(2221, 4)"
      ]
     },
     "execution_count": 10,
     "metadata": {},
     "output_type": "execute_result"
    }
   ],
   "source": [
    "m1.shape"
   ]
  },
  {
   "cell_type": "code",
   "execution_count": 9,
   "metadata": {},
   "outputs": [],
   "source": [
    "train_metrics = np.array(\n",
    "    [get_metric(query, train_start_time, train_end_time) for query in queries]\n",
    ")\n",
    "\n",
    "x_train = get_features(train_metrics)"
   ]
  },
  {
   "cell_type": "code",
   "execution_count": 10,
   "metadata": {},
   "outputs": [],
   "source": [
    "validate_metrics = np.array(\n",
    "    [get_metric(query, validate_start_time, validate_end_time) for query in queries]\n",
    ")\n",
    "\n",
    "x_validate = get_features(validate_metrics)"
   ]
  },
  {
   "cell_type": "code",
   "execution_count": 29,
   "metadata": {},
   "outputs": [],
   "source": [
    "test_metrics = np.array(\n",
    "    [get_metric(query, test_start_time, test_end_time) for query in queries]\n",
    ")\n",
    "\n",
    "x_test = get_features(test_metrics)"
   ]
  },
  {
   "cell_type": "code",
   "execution_count": 12,
   "metadata": {},
   "outputs": [],
   "source": [
    "anomaly_test_metrics = np.array(\n",
    "    [get_metric(query, anomaly_test_start_time, anomaly_test_end_time) for query in queries]\n",
    ")\n",
    "\n",
    "x_anomaly_test = get_features(anomaly_test_metrics)"
   ]
  },
  {
   "cell_type": "code",
   "execution_count": 13,
   "metadata": {},
   "outputs": [
    {
     "data": {
      "text/plain": [
       "(2221, 4, 10)"
      ]
     },
     "execution_count": 13,
     "metadata": {},
     "output_type": "execute_result"
    }
   ],
   "source": [
    "x_train.shape"
   ]
  },
  {
   "attachments": {},
   "cell_type": "markdown",
   "metadata": {},
   "source": [
    "### Model Creation"
   ]
  },
  {
   "cell_type": "code",
   "execution_count": 14,
   "metadata": {},
   "outputs": [],
   "source": [
    "# Define the input shape\n",
    "input_shape = (4, 10)\n",
    "\n",
    "# Define the encoder layers\n",
    "encoder_input = Input(shape=input_shape)\n",
    "x1 = Flatten()(encoder_input)\n",
    "\n",
    "x2 = Dense(32, activation='relu')(x1)\n",
    "\n",
    "# Define the decoder layers\n",
    "x3 = Dense(40, activation='linear')(x2)\n",
    "decoder_output = Reshape(input_shape)(x3)"
   ]
  },
  {
   "cell_type": "code",
   "execution_count": 15,
   "metadata": {},
   "outputs": [],
   "source": [
    "autoencoder = keras.Model(encoder_input, decoder_output)"
   ]
  },
  {
   "cell_type": "code",
   "execution_count": 16,
   "metadata": {},
   "outputs": [],
   "source": [
    "autoencoder.compile(optimizer='adam', loss='mean_squared_error')"
   ]
  },
  {
   "cell_type": "code",
   "execution_count": 17,
   "metadata": {},
   "outputs": [
    {
     "name": "stdout",
     "output_type": "stream",
     "text": [
      "Model: \"model\"\n",
      "_________________________________________________________________\n",
      " Layer (type)                Output Shape              Param #   \n",
      "=================================================================\n",
      " input_1 (InputLayer)        [(None, 4, 10)]           0         \n",
      "                                                                 \n",
      " flatten (Flatten)           (None, 40)                0         \n",
      "                                                                 \n",
      " dense (Dense)               (None, 32)                1312      \n",
      "                                                                 \n",
      " dense_1 (Dense)             (None, 40)                1320      \n",
      "                                                                 \n",
      " reshape (Reshape)           (None, 4, 10)             0         \n",
      "                                                                 \n",
      "=================================================================\n",
      "Total params: 2,632\n",
      "Trainable params: 2,632\n",
      "Non-trainable params: 0\n",
      "_________________________________________________________________\n"
     ]
    }
   ],
   "source": [
    "autoencoder.summary()"
   ]
  },
  {
   "cell_type": "code",
   "execution_count": 18,
   "metadata": {},
   "outputs": [
    {
     "name": "stdout",
     "output_type": "stream",
     "text": [
      "Epoch 1/200\n",
      " 1/70 [..............................] - ETA: 10s - loss: 1.9023"
     ]
    },
    {
     "name": "stderr",
     "output_type": "stream",
     "text": [
      "2023-04-12 21:22:26.900654: W tensorflow/tsl/platform/profile_utils/cpu_utils.cc:128] Failed to get CPU frequency: 0 Hz\n"
     ]
    },
    {
     "name": "stdout",
     "output_type": "stream",
     "text": [
      "70/70 [==============================] - 0s 1ms/step - loss: 1.2086 - val_loss: 1.1156\n",
      "Epoch 2/200\n",
      "70/70 [==============================] - 0s 617us/step - loss: 0.8837 - val_loss: 0.9878\n",
      "Epoch 3/200\n",
      "70/70 [==============================] - 0s 585us/step - loss: 0.7036 - val_loss: 0.9045\n",
      "Epoch 4/200\n",
      "70/70 [==============================] - 0s 571us/step - loss: 0.5882 - val_loss: 0.8419\n",
      "Epoch 5/200\n",
      "70/70 [==============================] - 0s 571us/step - loss: 0.5168 - val_loss: 0.7899\n",
      "Epoch 6/200\n",
      "70/70 [==============================] - 0s 557us/step - loss: 0.4642 - val_loss: 0.7452\n",
      "Epoch 7/200\n",
      "70/70 [==============================] - 0s 569us/step - loss: 0.4205 - val_loss: 0.7062\n",
      "Epoch 8/200\n",
      "70/70 [==============================] - 0s 576us/step - loss: 0.3832 - val_loss: 0.6714\n",
      "Epoch 9/200\n",
      "70/70 [==============================] - 0s 566us/step - loss: 0.3508 - val_loss: 0.6403\n",
      "Epoch 10/200\n",
      "70/70 [==============================] - 0s 561us/step - loss: 0.3222 - val_loss: 0.6119\n",
      "Epoch 11/200\n",
      "70/70 [==============================] - 0s 564us/step - loss: 0.2970 - val_loss: 0.5867\n",
      "Epoch 12/200\n",
      "70/70 [==============================] - 0s 564us/step - loss: 0.2744 - val_loss: 0.5645\n",
      "Epoch 13/200\n",
      "70/70 [==============================] - 0s 563us/step - loss: 0.2543 - val_loss: 0.5453\n",
      "Epoch 14/200\n",
      "70/70 [==============================] - 0s 564us/step - loss: 0.2365 - val_loss: 0.5284\n",
      "Epoch 15/200\n",
      "70/70 [==============================] - 0s 561us/step - loss: 0.2206 - val_loss: 0.5141\n",
      "Epoch 16/200\n",
      "70/70 [==============================] - 0s 552us/step - loss: 0.2066 - val_loss: 0.5014\n",
      "Epoch 17/200\n",
      "70/70 [==============================] - 0s 557us/step - loss: 0.1943 - val_loss: 0.4900\n",
      "Epoch 18/200\n",
      "70/70 [==============================] - 0s 553us/step - loss: 0.1832 - val_loss: 0.4798\n",
      "Epoch 19/200\n",
      "70/70 [==============================] - 0s 555us/step - loss: 0.1736 - val_loss: 0.4702\n",
      "Epoch 20/200\n",
      "70/70 [==============================] - 0s 566us/step - loss: 0.1649 - val_loss: 0.4613\n",
      "Epoch 21/200\n",
      "70/70 [==============================] - 0s 559us/step - loss: 0.1571 - val_loss: 0.4529\n",
      "Epoch 22/200\n",
      "70/70 [==============================] - 0s 554us/step - loss: 0.1500 - val_loss: 0.4451\n",
      "Epoch 23/200\n",
      "70/70 [==============================] - 0s 559us/step - loss: 0.1435 - val_loss: 0.4372\n",
      "Epoch 24/200\n",
      "70/70 [==============================] - 0s 553us/step - loss: 0.1373 - val_loss: 0.4296\n",
      "Epoch 25/200\n",
      "70/70 [==============================] - 0s 569us/step - loss: 0.1315 - val_loss: 0.4218\n",
      "Epoch 26/200\n",
      "70/70 [==============================] - 0s 555us/step - loss: 0.1259 - val_loss: 0.4143\n",
      "Epoch 27/200\n",
      "70/70 [==============================] - 0s 551us/step - loss: 0.1205 - val_loss: 0.4068\n",
      "Epoch 28/200\n",
      "70/70 [==============================] - 0s 547us/step - loss: 0.1151 - val_loss: 0.3997\n",
      "Epoch 29/200\n",
      "70/70 [==============================] - 0s 555us/step - loss: 0.1100 - val_loss: 0.3923\n",
      "Epoch 30/200\n",
      "70/70 [==============================] - 0s 556us/step - loss: 0.1050 - val_loss: 0.3855\n",
      "Epoch 31/200\n",
      "70/70 [==============================] - 0s 550us/step - loss: 0.1001 - val_loss: 0.3785\n",
      "Epoch 32/200\n",
      "70/70 [==============================] - 0s 554us/step - loss: 0.0955 - val_loss: 0.3722\n",
      "Epoch 33/200\n",
      "70/70 [==============================] - 0s 551us/step - loss: 0.0910 - val_loss: 0.3661\n",
      "Epoch 34/200\n",
      "70/70 [==============================] - 0s 552us/step - loss: 0.0868 - val_loss: 0.3602\n",
      "Epoch 35/200\n",
      "70/70 [==============================] - 0s 553us/step - loss: 0.0827 - val_loss: 0.3545\n",
      "Epoch 36/200\n",
      "70/70 [==============================] - 0s 552us/step - loss: 0.0789 - val_loss: 0.3490\n",
      "Epoch 37/200\n",
      "70/70 [==============================] - 0s 556us/step - loss: 0.0752 - val_loss: 0.3439\n",
      "Epoch 38/200\n",
      "70/70 [==============================] - 0s 561us/step - loss: 0.0718 - val_loss: 0.3389\n",
      "Epoch 39/200\n",
      "70/70 [==============================] - 0s 555us/step - loss: 0.0685 - val_loss: 0.3343\n",
      "Epoch 40/200\n",
      "70/70 [==============================] - 0s 565us/step - loss: 0.0655 - val_loss: 0.3296\n",
      "Epoch 41/200\n",
      "70/70 [==============================] - 0s 556us/step - loss: 0.0625 - val_loss: 0.3251\n",
      "Epoch 42/200\n",
      "70/70 [==============================] - 0s 567us/step - loss: 0.0598 - val_loss: 0.3208\n",
      "Epoch 43/200\n",
      "70/70 [==============================] - 0s 543us/step - loss: 0.0572 - val_loss: 0.3166\n",
      "Epoch 44/200\n",
      "70/70 [==============================] - 0s 563us/step - loss: 0.0548 - val_loss: 0.3127\n",
      "Epoch 45/200\n",
      "70/70 [==============================] - 0s 553us/step - loss: 0.0525 - val_loss: 0.3088\n",
      "Epoch 46/200\n",
      "70/70 [==============================] - 0s 560us/step - loss: 0.0503 - val_loss: 0.3053\n",
      "Epoch 47/200\n",
      "70/70 [==============================] - 0s 558us/step - loss: 0.0482 - val_loss: 0.3020\n",
      "Epoch 48/200\n",
      "70/70 [==============================] - 0s 570us/step - loss: 0.0462 - val_loss: 0.2986\n",
      "Epoch 49/200\n",
      "70/70 [==============================] - 0s 550us/step - loss: 0.0443 - val_loss: 0.2956\n",
      "Epoch 50/200\n",
      "70/70 [==============================] - 0s 562us/step - loss: 0.0425 - val_loss: 0.2925\n",
      "Epoch 51/200\n",
      "70/70 [==============================] - 0s 561us/step - loss: 0.0409 - val_loss: 0.2893\n",
      "Epoch 52/200\n",
      "70/70 [==============================] - 0s 652us/step - loss: 0.0394 - val_loss: 0.2865\n",
      "Epoch 53/200\n",
      "70/70 [==============================] - 0s 636us/step - loss: 0.0379 - val_loss: 0.2835\n",
      "Epoch 54/200\n",
      "70/70 [==============================] - 0s 1ms/step - loss: 0.0366 - val_loss: 0.2806\n",
      "Epoch 55/200\n",
      "70/70 [==============================] - 0s 1ms/step - loss: 0.0353 - val_loss: 0.2780\n",
      "Epoch 56/200\n",
      "70/70 [==============================] - 0s 667us/step - loss: 0.0342 - val_loss: 0.2753\n",
      "Epoch 57/200\n",
      "70/70 [==============================] - 0s 642us/step - loss: 0.0332 - val_loss: 0.2725\n",
      "Epoch 58/200\n",
      "70/70 [==============================] - 0s 586us/step - loss: 0.0322 - val_loss: 0.2697\n",
      "Epoch 59/200\n",
      "70/70 [==============================] - 0s 589us/step - loss: 0.0313 - val_loss: 0.2671\n",
      "Epoch 60/200\n",
      "70/70 [==============================] - 0s 557us/step - loss: 0.0303 - val_loss: 0.2646\n",
      "Epoch 61/200\n",
      "70/70 [==============================] - 0s 556us/step - loss: 0.0294 - val_loss: 0.2620\n",
      "Epoch 62/200\n",
      "70/70 [==============================] - 0s 558us/step - loss: 0.0285 - val_loss: 0.2594\n",
      "Epoch 63/200\n",
      "70/70 [==============================] - 0s 560us/step - loss: 0.0278 - val_loss: 0.2568\n",
      "Epoch 64/200\n",
      "70/70 [==============================] - 0s 560us/step - loss: 0.0275 - val_loss: 0.2548\n",
      "Epoch 65/200\n",
      "70/70 [==============================] - 0s 562us/step - loss: 0.0282 - val_loss: 0.2527\n",
      "Epoch 66/200\n",
      "70/70 [==============================] - 0s 580us/step - loss: 0.0297 - val_loss: 0.2470\n",
      "Epoch 67/200\n",
      "70/70 [==============================] - 0s 610us/step - loss: 0.0291 - val_loss: 0.2432\n",
      "Epoch 68/200\n",
      "70/70 [==============================] - 0s 677us/step - loss: 0.0270 - val_loss: 0.2477\n",
      "Epoch 69/200\n",
      "70/70 [==============================] - 0s 663us/step - loss: 0.0276 - val_loss: 0.2516\n",
      "Epoch 70/200\n",
      "70/70 [==============================] - 0s 608us/step - loss: 0.0281 - val_loss: 0.2521\n",
      "Epoch 71/200\n",
      "70/70 [==============================] - 0s 600us/step - loss: 0.0276 - val_loss: 0.2454\n",
      "Epoch 72/200\n",
      "70/70 [==============================] - 0s 694us/step - loss: 0.0274 - val_loss: 0.2373\n",
      "Epoch 73/200\n",
      "70/70 [==============================] - 0s 645us/step - loss: 0.0260 - val_loss: 0.2362\n",
      "Epoch 74/200\n",
      "70/70 [==============================] - 0s 591us/step - loss: 0.0247 - val_loss: 0.2385\n",
      "Epoch 75/200\n",
      "70/70 [==============================] - 0s 640us/step - loss: 0.0237 - val_loss: 0.2404\n",
      "Epoch 76/200\n",
      "70/70 [==============================] - 0s 606us/step - loss: 0.0235 - val_loss: 0.2341\n",
      "Epoch 77/200\n",
      "70/70 [==============================] - 0s 596us/step - loss: 0.0227 - val_loss: 0.2303\n",
      "Epoch 78/200\n",
      "70/70 [==============================] - 0s 574us/step - loss: 0.0217 - val_loss: 0.2250\n",
      "Epoch 79/200\n",
      "70/70 [==============================] - 0s 593us/step - loss: 0.0211 - val_loss: 0.2245\n",
      "Epoch 80/200\n",
      "70/70 [==============================] - 0s 597us/step - loss: 0.0213 - val_loss: 0.2257\n",
      "Epoch 81/200\n",
      "70/70 [==============================] - 0s 593us/step - loss: 0.0208 - val_loss: 0.2268\n",
      "Epoch 82/200\n",
      "70/70 [==============================] - 0s 603us/step - loss: 0.0204 - val_loss: 0.2183\n",
      "Epoch 83/200\n",
      "70/70 [==============================] - 0s 684us/step - loss: 0.0205 - val_loss: 0.2125\n",
      "Epoch 84/200\n",
      "70/70 [==============================] - 0s 649us/step - loss: 0.0203 - val_loss: 0.2142\n",
      "Epoch 85/200\n",
      "70/70 [==============================] - 0s 613us/step - loss: 0.0202 - val_loss: 0.2196\n",
      "Epoch 86/200\n",
      "70/70 [==============================] - 0s 643us/step - loss: 0.0201 - val_loss: 0.2156\n",
      "Epoch 87/200\n",
      "70/70 [==============================] - 0s 617us/step - loss: 0.0201 - val_loss: 0.2072\n",
      "Epoch 88/200\n",
      "70/70 [==============================] - 0s 597us/step - loss: 0.0193 - val_loss: 0.2077\n",
      "Epoch 89/200\n",
      "70/70 [==============================] - 0s 601us/step - loss: 0.0191 - val_loss: 0.2116\n",
      "Epoch 90/200\n",
      "70/70 [==============================] - 0s 614us/step - loss: 0.0190 - val_loss: 0.2116\n",
      "Epoch 91/200\n",
      "70/70 [==============================] - 0s 596us/step - loss: 0.0199 - val_loss: 0.2042\n",
      "Epoch 92/200\n",
      "70/70 [==============================] - 0s 596us/step - loss: 0.0204 - val_loss: 0.2018\n",
      "Epoch 93/200\n",
      "70/70 [==============================] - 0s 578us/step - loss: 0.0197 - val_loss: 0.2042\n",
      "Epoch 94/200\n",
      "70/70 [==============================] - 0s 602us/step - loss: 0.0184 - val_loss: 0.2031\n",
      "Epoch 95/200\n",
      "70/70 [==============================] - 0s 663us/step - loss: 0.0191 - val_loss: 0.1986\n",
      "Epoch 96/200\n",
      "70/70 [==============================] - 0s 593us/step - loss: 0.0202 - val_loss: 0.1954\n",
      "Epoch 97/200\n",
      "70/70 [==============================] - 0s 628us/step - loss: 0.0188 - val_loss: 0.1980\n",
      "Epoch 98/200\n",
      "70/70 [==============================] - 0s 622us/step - loss: 0.0184 - val_loss: 0.1999\n",
      "Epoch 99/200\n",
      "70/70 [==============================] - 0s 669us/step - loss: 0.0191 - val_loss: 0.1985\n",
      "Epoch 100/200\n",
      "70/70 [==============================] - 0s 628us/step - loss: 0.0191 - val_loss: 0.1947\n",
      "Epoch 101/200\n",
      "70/70 [==============================] - 0s 646us/step - loss: 0.0174 - val_loss: 0.1913\n",
      "Epoch 102/200\n",
      "70/70 [==============================] - 0s 620us/step - loss: 0.0182 - val_loss: 0.1878\n",
      "Epoch 103/200\n",
      "70/70 [==============================] - 0s 584us/step - loss: 0.0191 - val_loss: 0.1903\n",
      "Epoch 104/200\n",
      "70/70 [==============================] - 0s 600us/step - loss: 0.0179 - val_loss: 0.1969\n",
      "Epoch 105/200\n",
      "70/70 [==============================] - 0s 587us/step - loss: 0.0172 - val_loss: 0.1912\n",
      "Epoch 106/200\n",
      "70/70 [==============================] - 0s 574us/step - loss: 0.0173 - val_loss: 0.1794\n",
      "Epoch 107/200\n",
      "70/70 [==============================] - 0s 681us/step - loss: 0.0174 - val_loss: 0.1800\n",
      "Epoch 108/200\n",
      "70/70 [==============================] - 0s 751us/step - loss: 0.0168 - val_loss: 0.1884\n",
      "Epoch 109/200\n",
      "70/70 [==============================] - 0s 745us/step - loss: 0.0167 - val_loss: 0.1867\n",
      "Epoch 110/200\n",
      "70/70 [==============================] - 0s 606us/step - loss: 0.0164 - val_loss: 0.1767\n",
      "Epoch 111/200\n",
      "70/70 [==============================] - 0s 644us/step - loss: 0.0171 - val_loss: 0.1744\n",
      "Epoch 112/200\n",
      "70/70 [==============================] - 0s 633us/step - loss: 0.0172 - val_loss: 0.1811\n",
      "Epoch 113/200\n",
      "70/70 [==============================] - 0s 616us/step - loss: 0.0165 - val_loss: 0.1818\n",
      "Epoch 114/200\n",
      "70/70 [==============================] - 0s 605us/step - loss: 0.0156 - val_loss: 0.1740\n",
      "Epoch 115/200\n",
      "70/70 [==============================] - 0s 633us/step - loss: 0.0160 - val_loss: 0.1711\n",
      "Epoch 116/200\n",
      "70/70 [==============================] - 0s 628us/step - loss: 0.0163 - val_loss: 0.1755\n",
      "Epoch 117/200\n",
      "70/70 [==============================] - 0s 592us/step - loss: 0.0163 - val_loss: 0.1788\n",
      "Epoch 118/200\n",
      "70/70 [==============================] - 0s 698us/step - loss: 0.0158 - val_loss: 0.1755\n",
      "Epoch 119/200\n",
      "70/70 [==============================] - 0s 629us/step - loss: 0.0163 - val_loss: 0.1714\n",
      "Epoch 120/200\n",
      "70/70 [==============================] - 0s 624us/step - loss: 0.0157 - val_loss: 0.1697\n",
      "Epoch 121/200\n",
      "70/70 [==============================] - 0s 605us/step - loss: 0.0153 - val_loss: 0.1722\n",
      "Epoch 122/200\n",
      "70/70 [==============================] - 0s 648us/step - loss: 0.0157 - val_loss: 0.1701\n",
      "Epoch 123/200\n",
      "70/70 [==============================] - 0s 617us/step - loss: 0.0165 - val_loss: 0.1690\n",
      "Epoch 124/200\n",
      "70/70 [==============================] - 0s 592us/step - loss: 0.0155 - val_loss: 0.1691\n",
      "Epoch 125/200\n",
      "70/70 [==============================] - 0s 616us/step - loss: 0.0166 - val_loss: 0.1671\n",
      "Epoch 126/200\n",
      "70/70 [==============================] - 0s 615us/step - loss: 0.0167 - val_loss: 0.1666\n",
      "Epoch 127/200\n",
      "70/70 [==============================] - 0s 611us/step - loss: 0.0168 - val_loss: 0.1699\n",
      "Epoch 128/200\n",
      "70/70 [==============================] - 0s 688us/step - loss: 0.0156 - val_loss: 0.1732\n",
      "Epoch 129/200\n",
      "70/70 [==============================] - 0s 645us/step - loss: 0.0157 - val_loss: 0.1671\n",
      "Epoch 130/200\n",
      "70/70 [==============================] - 0s 625us/step - loss: 0.0162 - val_loss: 0.1606\n",
      "Epoch 131/200\n",
      "70/70 [==============================] - 0s 623us/step - loss: 0.0175 - val_loss: 0.1633\n",
      "Epoch 132/200\n",
      "70/70 [==============================] - 0s 646us/step - loss: 0.0169 - val_loss: 0.1756\n",
      "Epoch 133/200\n",
      "70/70 [==============================] - 0s 630us/step - loss: 0.0170 - val_loss: 0.1728\n",
      "Epoch 134/200\n",
      "70/70 [==============================] - 0s 609us/step - loss: 0.0153 - val_loss: 0.1599\n",
      "Epoch 135/200\n",
      "70/70 [==============================] - 0s 623us/step - loss: 0.0168 - val_loss: 0.1532\n",
      "Epoch 136/200\n",
      "70/70 [==============================] - 0s 595us/step - loss: 0.0170 - val_loss: 0.1659\n",
      "Epoch 137/200\n",
      "70/70 [==============================] - 0s 586us/step - loss: 0.0166 - val_loss: 0.1709\n",
      "Epoch 138/200\n",
      "70/70 [==============================] - 0s 602us/step - loss: 0.0150 - val_loss: 0.1632\n",
      "Epoch 139/200\n",
      "70/70 [==============================] - 0s 670us/step - loss: 0.0169 - val_loss: 0.1554\n",
      "Epoch 140/200\n",
      "70/70 [==============================] - 0s 612us/step - loss: 0.0164 - val_loss: 0.1638\n",
      "Epoch 141/200\n",
      "70/70 [==============================] - 0s 601us/step - loss: 0.0159 - val_loss: 0.1651\n",
      "Epoch 142/200\n",
      "70/70 [==============================] - 0s 582us/step - loss: 0.0154 - val_loss: 0.1538\n",
      "Epoch 143/200\n",
      "70/70 [==============================] - 0s 619us/step - loss: 0.0163 - val_loss: 0.1542\n",
      "Epoch 144/200\n",
      "70/70 [==============================] - 0s 595us/step - loss: 0.0156 - val_loss: 0.1678\n",
      "Epoch 145/200\n",
      "70/70 [==============================] - 0s 601us/step - loss: 0.0156 - val_loss: 0.1678\n",
      "Epoch 146/200\n",
      "70/70 [==============================] - 0s 608us/step - loss: 0.0153 - val_loss: 0.1544\n",
      "Epoch 147/200\n",
      "70/70 [==============================] - 0s 599us/step - loss: 0.0159 - val_loss: 0.1510\n",
      "Epoch 148/200\n",
      "70/70 [==============================] - 0s 607us/step - loss: 0.0152 - val_loss: 0.1602\n",
      "Epoch 149/200\n",
      "70/70 [==============================] - 0s 581us/step - loss: 0.0143 - val_loss: 0.1645\n",
      "Epoch 150/200\n",
      "70/70 [==============================] - 0s 620us/step - loss: 0.0147 - val_loss: 0.1513\n",
      "Epoch 151/200\n",
      "70/70 [==============================] - 0s 685us/step - loss: 0.0143 - val_loss: 0.1469\n",
      "Epoch 152/200\n",
      "70/70 [==============================] - 0s 576us/step - loss: 0.0144 - val_loss: 0.1555\n",
      "Epoch 153/200\n",
      "70/70 [==============================] - 0s 617us/step - loss: 0.0132 - val_loss: 0.1634\n",
      "Epoch 154/200\n",
      "70/70 [==============================] - 0s 595us/step - loss: 0.0135 - val_loss: 0.1545\n",
      "Epoch 155/200\n",
      "70/70 [==============================] - 0s 598us/step - loss: 0.0134 - val_loss: 0.1432\n",
      "Epoch 156/200\n",
      "70/70 [==============================] - 0s 601us/step - loss: 0.0133 - val_loss: 0.1468\n",
      "Epoch 157/200\n",
      "70/70 [==============================] - 0s 600us/step - loss: 0.0131 - val_loss: 0.1561\n",
      "Epoch 158/200\n",
      "70/70 [==============================] - 0s 615us/step - loss: 0.0131 - val_loss: 0.1574\n",
      "Epoch 159/200\n",
      "70/70 [==============================] - 0s 589us/step - loss: 0.0135 - val_loss: 0.1469\n",
      "Epoch 160/200\n",
      "70/70 [==============================] - 0s 617us/step - loss: 0.0140 - val_loss: 0.1425\n",
      "Epoch 161/200\n",
      "70/70 [==============================] - 0s 980us/step - loss: 0.0135 - val_loss: 0.1513\n",
      "Epoch 162/200\n",
      "70/70 [==============================] - 0s 674us/step - loss: 0.0136 - val_loss: 0.1587\n",
      "Epoch 163/200\n",
      "70/70 [==============================] - 0s 604us/step - loss: 0.0141 - val_loss: 0.1513\n",
      "Epoch 164/200\n",
      "70/70 [==============================] - 0s 585us/step - loss: 0.0149 - val_loss: 0.1429\n",
      "Epoch 165/200\n",
      "70/70 [==============================] - 0s 588us/step - loss: 0.0153 - val_loss: 0.1461\n",
      "Epoch 166/200\n",
      "70/70 [==============================] - 0s 580us/step - loss: 0.0143 - val_loss: 0.1577\n",
      "Epoch 167/200\n",
      "70/70 [==============================] - 0s 601us/step - loss: 0.0146 - val_loss: 0.1539\n",
      "Epoch 168/200\n",
      "70/70 [==============================] - 0s 590us/step - loss: 0.0148 - val_loss: 0.1467\n",
      "Epoch 169/200\n",
      "70/70 [==============================] - 0s 622us/step - loss: 0.0164 - val_loss: 0.1477\n",
      "Epoch 170/200\n",
      "70/70 [==============================] - 0s 584us/step - loss: 0.0140 - val_loss: 0.1572\n",
      "Epoch 171/200\n",
      "70/70 [==============================] - 0s 609us/step - loss: 0.0148 - val_loss: 0.1537\n",
      "Epoch 172/200\n",
      "70/70 [==============================] - 0s 590us/step - loss: 0.0150 - val_loss: 0.1436\n",
      "Epoch 173/200\n",
      "70/70 [==============================] - 0s 642us/step - loss: 0.0152 - val_loss: 0.1474\n",
      "Epoch 174/200\n",
      "70/70 [==============================] - 0s 642us/step - loss: 0.0153 - val_loss: 0.1551\n",
      "Epoch 175/200\n",
      "70/70 [==============================] - 0s 610us/step - loss: 0.0153 - val_loss: 0.1554\n",
      "Epoch 176/200\n",
      "70/70 [==============================] - 0s 582us/step - loss: 0.0158 - val_loss: 0.1440\n",
      "Epoch 177/200\n",
      "70/70 [==============================] - 0s 590us/step - loss: 0.0154 - val_loss: 0.1461\n",
      "Epoch 178/200\n",
      "70/70 [==============================] - 0s 589us/step - loss: 0.0153 - val_loss: 0.1567\n",
      "Epoch 179/200\n",
      "70/70 [==============================] - 0s 612us/step - loss: 0.0157 - val_loss: 0.1554\n",
      "Epoch 180/200\n",
      "70/70 [==============================] - 0s 590us/step - loss: 0.0145 - val_loss: 0.1476\n",
      "Epoch 181/200\n",
      "70/70 [==============================] - 0s 612us/step - loss: 0.0149 - val_loss: 0.1451\n",
      "Epoch 182/200\n",
      "70/70 [==============================] - 0s 617us/step - loss: 0.0135 - val_loss: 0.1525\n",
      "Epoch 183/200\n",
      "70/70 [==============================] - 0s 574us/step - loss: 0.0134 - val_loss: 0.1505\n",
      "Epoch 184/200\n",
      "70/70 [==============================] - 0s 603us/step - loss: 0.0129 - val_loss: 0.1396\n",
      "Epoch 185/200\n",
      "70/70 [==============================] - 0s 658us/step - loss: 0.0133 - val_loss: 0.1396\n",
      "Epoch 186/200\n",
      "70/70 [==============================] - 0s 603us/step - loss: 0.0121 - val_loss: 0.1467\n",
      "Epoch 187/200\n",
      "70/70 [==============================] - 0s 593us/step - loss: 0.0125 - val_loss: 0.1494\n",
      "Epoch 188/200\n",
      "70/70 [==============================] - 0s 590us/step - loss: 0.0117 - val_loss: 0.1419\n",
      "Epoch 189/200\n",
      "70/70 [==============================] - 0s 591us/step - loss: 0.0121 - val_loss: 0.1417\n",
      "Epoch 190/200\n",
      "70/70 [==============================] - 0s 575us/step - loss: 0.0125 - val_loss: 0.1425\n",
      "Epoch 191/200\n",
      "70/70 [==============================] - 0s 598us/step - loss: 0.0118 - val_loss: 0.1472\n",
      "Epoch 192/200\n",
      "70/70 [==============================] - 0s 586us/step - loss: 0.0122 - val_loss: 0.1414\n",
      "Epoch 193/200\n",
      "70/70 [==============================] - 0s 618us/step - loss: 0.0127 - val_loss: 0.1376\n",
      "Epoch 194/200\n",
      "70/70 [==============================] - 0s 590us/step - loss: 0.0120 - val_loss: 0.1433\n",
      "Epoch 195/200\n",
      "70/70 [==============================] - 0s 597us/step - loss: 0.0130 - val_loss: 0.1443\n",
      "Epoch 196/200\n",
      "70/70 [==============================] - 0s 664us/step - loss: 0.0119 - val_loss: 0.1449\n",
      "Epoch 197/200\n",
      "70/70 [==============================] - 0s 588us/step - loss: 0.0136 - val_loss: 0.1405\n",
      "Epoch 198/200\n",
      "70/70 [==============================] - 0s 614us/step - loss: 0.0118 - val_loss: 0.1439\n",
      "Epoch 199/200\n",
      "70/70 [==============================] - 0s 603us/step - loss: 0.0131 - val_loss: 0.1451\n",
      "Epoch 200/200\n",
      "70/70 [==============================] - 0s 591us/step - loss: 0.0121 - val_loss: 0.1454\n"
     ]
    },
    {
     "data": {
      "text/plain": [
       "<keras.callbacks.History at 0x28cf1d6c0>"
      ]
     },
     "execution_count": 18,
     "metadata": {},
     "output_type": "execute_result"
    }
   ],
   "source": [
    "autoencoder.fit(x_train, x_train,\n",
    "                epochs=200,\n",
    "                shuffle=False,\n",
    "                validation_data=(x_validate, x_validate))"
   ]
  },
  {
   "attachments": {},
   "cell_type": "markdown",
   "metadata": {},
   "source": [
    "### Detect Attack"
   ]
  },
  {
   "cell_type": "code",
   "execution_count": 31,
   "metadata": {},
   "outputs": [],
   "source": [
    "nodeNumberToName = {\n",
    "    0: 'gke-cluster-1-default-pool-a33b274c-9t2g',\n",
    "    1: 'gke-cluster-1-default-pool-a33b274c-g246',\n",
    "    2: 'gke-cluster-1-default-pool-a33b274c-hsm7',\n",
    "    3: 'gke-cluster-1-default-pool-a33b274c-z3f4',\n",
    "}\n",
    "\n",
    "def getNodeName(nodeNumber):\n",
    "    return nodeNumberToName[nodeNumber]"
   ]
  },
  {
   "cell_type": "code",
   "execution_count": 32,
   "metadata": {},
   "outputs": [],
   "source": [
    "def get_attacked_nodes(x, threshold):\n",
    "    predictions = autoencoder.predict(x)\n",
    "    error = np.mean((predictions - x) ** 2, axis=(2, 0))\n",
    "    print(f'error => {error}')\n",
    "    nodeNumbers = np.where(error > threshold)[0]\n",
    "    return [getNodeName(nodeNumber) for nodeNumber in nodeNumbers]"
   ]
  },
  {
   "cell_type": "code",
   "execution_count": 33,
   "metadata": {},
   "outputs": [],
   "source": [
    "anomaly_test_start_time = pd.Timestamp('2023-04-11T17:40:00IST')\n",
    "anomaly_test_end_time = pd.Timestamp('2023-04-11T19:40:00IST')"
   ]
  },
  {
   "cell_type": "code",
   "execution_count": 36,
   "metadata": {},
   "outputs": [],
   "source": [
    "anomaly_test_metrics = np.array(\n",
    "    [get_metric(query, anomaly_test_start_time, anomaly_test_end_time) for query in queries]\n",
    ")\n",
    "\n",
    "x_anomaly_test = get_features(anomaly_test_metrics)"
   ]
  },
  {
   "cell_type": "code",
   "execution_count": 35,
   "metadata": {},
   "outputs": [
    {
     "name": "stdout",
     "output_type": "stream",
     "text": [
      "4/4 [==============================] - 0s 471us/step\n",
      "error => [0.30944772 0.0941184  0.17742474 0.10908863]\n",
      "attacked_nodes => ['gke-cluster-1-default-pool-a33b274c-9t2g']\n"
     ]
    }
   ],
   "source": [
    "attacked_nodes = get_attacked_nodes(x_anomaly_test, 0.25)\n",
    "print(f'attacked_nodes => {attacked_nodes}')"
   ]
  }
 ],
 "metadata": {
  "kernelspec": {
   "display_name": "Python 3",
   "language": "python",
   "name": "python3"
  },
  "language_info": {
   "codemirror_mode": {
    "name": "ipython",
    "version": 3
   },
   "file_extension": ".py",
   "mimetype": "text/x-python",
   "name": "python",
   "nbconvert_exporter": "python",
   "pygments_lexer": "ipython3",
   "version": "3.10.10"
  },
  "orig_nbformat": 4
 },
 "nbformat": 4,
 "nbformat_minor": 2
}
