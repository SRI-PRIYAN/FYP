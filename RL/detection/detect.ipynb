{
 "cells": [
  {
   "cell_type": "code",
   "execution_count": 1,
   "metadata": {},
   "outputs": [],
   "source": [
    "from prometheus_api_client import PrometheusConnect\n",
    "import numpy as np\n",
    "import pandas as pd\n",
    "from sklearn.preprocessing import StandardScaler\n",
    "import tensorflow as tf\n",
    "from tensorflow import keras\n",
    "from keras.layers import Input, Dense, Flatten, Reshape"
   ]
  },
  {
   "cell_type": "code",
   "execution_count": 2,
   "metadata": {},
   "outputs": [],
   "source": [
    "pc = PrometheusConnect(url=\"http://localhost:9090\")"
   ]
  },
  {
   "cell_type": "code",
   "execution_count": 3,
   "metadata": {},
   "outputs": [],
   "source": [
    "train_start_time = pd.Timestamp('2023-04-08T15:00:00IST')\n",
    "train_end_time = pd.Timestamp('2023-04-10T04:00:00IST')\n",
    "\n",
    "validate_start_time = pd.Timestamp('2023-04-10T04:01:00IST')\n",
    "validate_end_time = pd.Timestamp('2023-04-10T10:00:00IST')\n",
    "\n",
    "test_start_time = pd.Timestamp('2023-04-10T21:00:00IST')\n",
    "test_end_time = pd.Timestamp('2023-04-10T22:00:00IST')\n",
    "\n",
    "# anomaly_test_start_time = pd.Timestamp('2023-04-11T00:00:00IST')\n",
    "# anomaly_test_end_time = pd.Timestamp('2023-04-11T01:00:00IST')\n",
    "\n",
    "anomaly_test_start_time = pd.Timestamp('2023-04-11T17:40:00IST')\n",
    "anomaly_test_end_time = pd.Timestamp('2023-04-11T19:40:00IST')"
   ]
  },
  {
   "attachments": {},
   "cell_type": "markdown",
   "metadata": {},
   "source": [
    "### Fetch the Metrics"
   ]
  },
  {
   "cell_type": "code",
   "execution_count": 4,
   "metadata": {},
   "outputs": [],
   "source": [
    "def query_metric(query, start_time, end_time):\n",
    "    return pc.custom_query_range(query, start_time, end_time, '1m')"
   ]
  },
  {
   "cell_type": "code",
   "execution_count": 5,
   "metadata": {},
   "outputs": [],
   "source": [
    "# Returns a 2D array of size (num_values, num_nodes)\n",
    "# num_values depends on the start and end time given when fetching the metric\n",
    "def extract_values(raw_metric):\n",
    "    metric = []\n",
    "\n",
    "    scaler = StandardScaler()\n",
    "    for data in raw_metric:\n",
    "        d = np.array(data['values']).T[1]\n",
    "        scaled_d = scaler.fit_transform(d.reshape((-1, 1))).flatten()\n",
    "        metric.append(scaled_d)\n",
    "    \n",
    "    return np.array(metric, dtype=np.float64).T"
   ]
  },
  {
   "cell_type": "code",
   "execution_count": 6,
   "metadata": {},
   "outputs": [],
   "source": [
    "def get_metric(query, start_time, end_time):\n",
    "    raw_metric = query_metric(query, start_time, end_time)\n",
    "    return extract_values(raw_metric)"
   ]
  },
  {
   "attachments": {},
   "cell_type": "markdown",
   "metadata": {},
   "source": [
    "### Organize the Metric Values as Features"
   ]
  },
  {
   "cell_type": "code",
   "execution_count": 7,
   "metadata": {},
   "outputs": [],
   "source": [
    "def get_features(metrics):\n",
    "    return metrics.transpose((1, 2, 0))"
   ]
  },
  {
   "cell_type": "code",
   "execution_count": 8,
   "metadata": {},
   "outputs": [],
   "source": [
    "queries = [\n",
    "    'sum(rate(node_cpu_seconds_total{mode=\"user\"}[10m])) by (node)',\n",
    "    'node_memory_MemAvailable_bytes',\n",
    "    'sum(rate(kubelet_http_requests_total[10m])) by (kubernetes_io_hostname)',\n",
    "    '(sum(rate(node_network_transmit_bytes_total[10m])) by (node))',\n",
    "    '(sum(rate(node_network_receive_bytes_total[15m])) by (node))',\n",
    "    'sum(kubelet_running_containers{container_state=\"running\"}) by (kubernetes_io_hostname)',\n",
    "    'sum(container_processes) by (kubernetes_io_hostname)',\n",
    "    'node_sockstat_sockets_used',\n",
    "    'sum(container_sockets) by (kubernetes_io_hostname)',\n",
    "    'avg(kubelet_http_requests_duration_seconds_sum) by (kubernetes_io_hostname)'\n",
    "]"
   ]
  },
  {
   "cell_type": "code",
   "execution_count": 9,
   "metadata": {},
   "outputs": [],
   "source": [
    "m1 = get_metric(queries[0], train_start_time, train_end_time)\n",
    "m2 = get_metric(queries[1], train_start_time, train_end_time)"
   ]
  },
  {
   "cell_type": "code",
   "execution_count": 10,
   "metadata": {},
   "outputs": [
    {
     "data": {
      "text/plain": [
       "(2221, 4)"
      ]
     },
     "execution_count": 10,
     "metadata": {},
     "output_type": "execute_result"
    }
   ],
   "source": [
    "m1.shape"
   ]
  },
  {
   "cell_type": "code",
   "execution_count": 11,
   "metadata": {},
   "outputs": [],
   "source": [
    "train_metrics = np.array(\n",
    "    [get_metric(query, train_start_time, train_end_time) for query in queries]\n",
    ")\n",
    "\n",
    "x_train = get_features(train_metrics)"
   ]
  },
  {
   "cell_type": "code",
   "execution_count": 12,
   "metadata": {},
   "outputs": [],
   "source": [
    "validate_metrics = np.array(\n",
    "    [get_metric(query, validate_start_time, validate_end_time) for query in queries]\n",
    ")\n",
    "\n",
    "x_validate = get_features(validate_metrics)"
   ]
  },
  {
   "cell_type": "code",
   "execution_count": 13,
   "metadata": {},
   "outputs": [],
   "source": [
    "test_metrics = np.array(\n",
    "    [get_metric(query, test_start_time, test_end_time) for query in queries]\n",
    ")\n",
    "\n",
    "x_test = get_features(test_metrics)"
   ]
  },
  {
   "cell_type": "code",
   "execution_count": 14,
   "metadata": {},
   "outputs": [],
   "source": [
    "anomaly_test_metrics = np.array(\n",
    "    [get_metric(query, anomaly_test_start_time, anomaly_test_end_time) for query in queries]\n",
    ")\n",
    "\n",
    "x_anomaly_test = get_features(anomaly_test_metrics)"
   ]
  },
  {
   "cell_type": "code",
   "execution_count": 15,
   "metadata": {},
   "outputs": [
    {
     "data": {
      "text/plain": [
       "(2221, 4, 10)"
      ]
     },
     "execution_count": 15,
     "metadata": {},
     "output_type": "execute_result"
    }
   ],
   "source": [
    "x_train.shape"
   ]
  },
  {
   "attachments": {},
   "cell_type": "markdown",
   "metadata": {},
   "source": [
    "### Model Creation"
   ]
  },
  {
   "cell_type": "code",
   "execution_count": 30,
   "metadata": {},
   "outputs": [],
   "source": [
    "# Define the input shape\n",
    "input_shape = (4, 10)\n",
    "\n",
    "# Define the encoder layers\n",
    "encoder_input = Input(shape=input_shape)\n",
    "x1 = Flatten()(encoder_input)\n",
    "\n",
    "x2 = Dense(32, activation='relu')(x1)\n",
    "\n",
    "# Define the decoder layers\n",
    "x3 = Dense(40, activation='linear')(x2)\n",
    "decoder_output = Reshape(input_shape)(x3)"
   ]
  },
  {
   "cell_type": "code",
   "execution_count": 31,
   "metadata": {},
   "outputs": [],
   "source": [
    "autoencoder = keras.Model(encoder_input, decoder_output)"
   ]
  },
  {
   "cell_type": "code",
   "execution_count": 32,
   "metadata": {},
   "outputs": [],
   "source": [
    "autoencoder.compile(optimizer='adam', loss='mean_squared_error')"
   ]
  },
  {
   "cell_type": "code",
   "execution_count": 33,
   "metadata": {},
   "outputs": [
    {
     "name": "stdout",
     "output_type": "stream",
     "text": [
      "Model: \"model_1\"\n",
      "_________________________________________________________________\n",
      " Layer (type)                Output Shape              Param #   \n",
      "=================================================================\n",
      " input_2 (InputLayer)        [(None, 4, 10)]           0         \n",
      "                                                                 \n",
      " flatten_1 (Flatten)         (None, 40)                0         \n",
      "                                                                 \n",
      " dense_2 (Dense)             (None, 32)                1312      \n",
      "                                                                 \n",
      " dense_3 (Dense)             (None, 40)                1320      \n",
      "                                                                 \n",
      " reshape_1 (Reshape)         (None, 4, 10)             0         \n",
      "                                                                 \n",
      "=================================================================\n",
      "Total params: 2,632\n",
      "Trainable params: 2,632\n",
      "Non-trainable params: 0\n",
      "_________________________________________________________________\n"
     ]
    }
   ],
   "source": [
    "autoencoder.summary()"
   ]
  },
  {
   "cell_type": "code",
   "execution_count": 34,
   "metadata": {},
   "outputs": [
    {
     "name": "stdout",
     "output_type": "stream",
     "text": [
      "Epoch 1/200\n",
      "70/70 [==============================] - 0s 1ms/step - loss: 1.1866 - val_loss: 1.0093\n",
      "Epoch 2/200\n",
      "70/70 [==============================] - 0s 629us/step - loss: 0.8737 - val_loss: 0.9096\n",
      "Epoch 3/200\n",
      "70/70 [==============================] - 0s 623us/step - loss: 0.7010 - val_loss: 0.8428\n",
      "Epoch 4/200\n",
      "70/70 [==============================] - 0s 642us/step - loss: 0.5774 - val_loss: 0.7938\n",
      "Epoch 5/200\n",
      "70/70 [==============================] - 0s 623us/step - loss: 0.4985 - val_loss: 0.7522\n",
      "Epoch 6/200\n",
      "70/70 [==============================] - 0s 688us/step - loss: 0.4439 - val_loss: 0.7125\n",
      "Epoch 7/200\n",
      "70/70 [==============================] - 0s 648us/step - loss: 0.3999 - val_loss: 0.6769\n",
      "Epoch 8/200\n",
      "70/70 [==============================] - 0s 706us/step - loss: 0.3623 - val_loss: 0.6441\n",
      "Epoch 9/200\n",
      "70/70 [==============================] - 0s 625us/step - loss: 0.3302 - val_loss: 0.6151\n",
      "Epoch 10/200\n",
      "70/70 [==============================] - 0s 640us/step - loss: 0.3027 - val_loss: 0.5888\n",
      "Epoch 11/200\n",
      "70/70 [==============================] - 0s 612us/step - loss: 0.2791 - val_loss: 0.5654\n",
      "Epoch 12/200\n",
      "70/70 [==============================] - 0s 630us/step - loss: 0.2587 - val_loss: 0.5443\n",
      "Epoch 13/200\n",
      "70/70 [==============================] - 0s 623us/step - loss: 0.2409 - val_loss: 0.5256\n",
      "Epoch 14/200\n",
      "70/70 [==============================] - 0s 619us/step - loss: 0.2252 - val_loss: 0.5084\n",
      "Epoch 15/200\n",
      "70/70 [==============================] - 0s 630us/step - loss: 0.2112 - val_loss: 0.4931\n",
      "Epoch 16/200\n",
      "70/70 [==============================] - 0s 638us/step - loss: 0.1988 - val_loss: 0.4787\n",
      "Epoch 17/200\n",
      "70/70 [==============================] - 0s 621us/step - loss: 0.1875 - val_loss: 0.4655\n",
      "Epoch 18/200\n",
      "70/70 [==============================] - 0s 608us/step - loss: 0.1772 - val_loss: 0.4531\n",
      "Epoch 19/200\n",
      "70/70 [==============================] - 0s 693us/step - loss: 0.1678 - val_loss: 0.4417\n",
      "Epoch 20/200\n",
      "70/70 [==============================] - 0s 635us/step - loss: 0.1590 - val_loss: 0.4307\n",
      "Epoch 21/200\n",
      "70/70 [==============================] - 0s 632us/step - loss: 0.1509 - val_loss: 0.4205\n",
      "Epoch 22/200\n",
      "70/70 [==============================] - 0s 609us/step - loss: 0.1432 - val_loss: 0.4105\n",
      "Epoch 23/200\n",
      "70/70 [==============================] - 0s 635us/step - loss: 0.1359 - val_loss: 0.4010\n",
      "Epoch 24/200\n",
      "70/70 [==============================] - 0s 601us/step - loss: 0.1290 - val_loss: 0.3918\n",
      "Epoch 25/200\n",
      "70/70 [==============================] - 0s 627us/step - loss: 0.1225 - val_loss: 0.3830\n",
      "Epoch 26/200\n",
      "70/70 [==============================] - 0s 620us/step - loss: 0.1164 - val_loss: 0.3744\n",
      "Epoch 27/200\n",
      "70/70 [==============================] - 0s 607us/step - loss: 0.1107 - val_loss: 0.3662\n",
      "Epoch 28/200\n",
      "70/70 [==============================] - 0s 621us/step - loss: 0.1052 - val_loss: 0.3582\n",
      "Epoch 29/200\n",
      "70/70 [==============================] - 0s 603us/step - loss: 0.1000 - val_loss: 0.3504\n",
      "Epoch 30/200\n",
      "70/70 [==============================] - 0s 625us/step - loss: 0.0949 - val_loss: 0.3428\n",
      "Epoch 31/200\n",
      "70/70 [==============================] - 0s 623us/step - loss: 0.0901 - val_loss: 0.3355\n",
      "Epoch 32/200\n",
      "70/70 [==============================] - 0s 605us/step - loss: 0.0855 - val_loss: 0.3283\n",
      "Epoch 33/200\n",
      "70/70 [==============================] - 0s 611us/step - loss: 0.0811 - val_loss: 0.3214\n",
      "Epoch 34/200\n",
      "70/70 [==============================] - 0s 607us/step - loss: 0.0769 - val_loss: 0.3148\n",
      "Epoch 35/200\n",
      "70/70 [==============================] - 0s 702us/step - loss: 0.0729 - val_loss: 0.3081\n",
      "Epoch 36/200\n",
      "70/70 [==============================] - 0s 943us/step - loss: 0.0690 - val_loss: 0.3017\n",
      "Epoch 37/200\n",
      "70/70 [==============================] - 0s 631us/step - loss: 0.0652 - val_loss: 0.2956\n",
      "Epoch 38/200\n",
      "70/70 [==============================] - 0s 595us/step - loss: 0.0614 - val_loss: 0.2898\n",
      "Epoch 39/200\n",
      "70/70 [==============================] - 0s 611us/step - loss: 0.0578 - val_loss: 0.2844\n",
      "Epoch 40/200\n",
      "70/70 [==============================] - 0s 594us/step - loss: 0.0544 - val_loss: 0.2796\n",
      "Epoch 41/200\n",
      "70/70 [==============================] - 0s 614us/step - loss: 0.0513 - val_loss: 0.2749\n",
      "Epoch 42/200\n",
      "70/70 [==============================] - 0s 605us/step - loss: 0.0484 - val_loss: 0.2706\n",
      "Epoch 43/200\n",
      "70/70 [==============================] - 0s 616us/step - loss: 0.0457 - val_loss: 0.2665\n",
      "Epoch 44/200\n",
      "70/70 [==============================] - 0s 613us/step - loss: 0.0431 - val_loss: 0.2624\n",
      "Epoch 45/200\n",
      "70/70 [==============================] - 0s 634us/step - loss: 0.0408 - val_loss: 0.2584\n",
      "Epoch 46/200\n",
      "70/70 [==============================] - 0s 645us/step - loss: 0.0386 - val_loss: 0.2549\n",
      "Epoch 47/200\n",
      "70/70 [==============================] - 0s 639us/step - loss: 0.0366 - val_loss: 0.2513\n",
      "Epoch 48/200\n",
      "70/70 [==============================] - 0s 689us/step - loss: 0.0348 - val_loss: 0.2482\n",
      "Epoch 49/200\n",
      "70/70 [==============================] - 0s 645us/step - loss: 0.0332 - val_loss: 0.2450\n",
      "Epoch 50/200\n",
      "70/70 [==============================] - 0s 618us/step - loss: 0.0317 - val_loss: 0.2417\n",
      "Epoch 51/200\n",
      "70/70 [==============================] - 0s 650us/step - loss: 0.0304 - val_loss: 0.2386\n",
      "Epoch 52/200\n",
      "70/70 [==============================] - 0s 631us/step - loss: 0.0292 - val_loss: 0.2356\n",
      "Epoch 53/200\n",
      "70/70 [==============================] - 0s 630us/step - loss: 0.0282 - val_loss: 0.2327\n",
      "Epoch 54/200\n",
      "70/70 [==============================] - 0s 639us/step - loss: 0.0275 - val_loss: 0.2301\n",
      "Epoch 55/200\n",
      "70/70 [==============================] - 0s 605us/step - loss: 0.0268 - val_loss: 0.2275\n",
      "Epoch 56/200\n",
      "70/70 [==============================] - 0s 619us/step - loss: 0.0261 - val_loss: 0.2248\n",
      "Epoch 57/200\n",
      "70/70 [==============================] - 0s 610us/step - loss: 0.0254 - val_loss: 0.2224\n",
      "Epoch 58/200\n",
      "70/70 [==============================] - 0s 616us/step - loss: 0.0247 - val_loss: 0.2205\n",
      "Epoch 59/200\n",
      "70/70 [==============================] - 0s 591us/step - loss: 0.0240 - val_loss: 0.2184\n",
      "Epoch 60/200\n",
      "70/70 [==============================] - 0s 603us/step - loss: 0.0232 - val_loss: 0.2161\n",
      "Epoch 61/200\n",
      "70/70 [==============================] - 0s 611us/step - loss: 0.0229 - val_loss: 0.2139\n",
      "Epoch 62/200\n",
      "70/70 [==============================] - 0s 687us/step - loss: 0.0231 - val_loss: 0.2122\n",
      "Epoch 63/200\n",
      "70/70 [==============================] - 0s 639us/step - loss: 0.0244 - val_loss: 0.2103\n",
      "Epoch 64/200\n",
      "70/70 [==============================] - 0s 627us/step - loss: 0.0242 - val_loss: 0.2054\n",
      "Epoch 65/200\n",
      "70/70 [==============================] - 0s 641us/step - loss: 0.0218 - val_loss: 0.2067\n",
      "Epoch 66/200\n",
      "70/70 [==============================] - 0s 687us/step - loss: 0.0224 - val_loss: 0.2070\n",
      "Epoch 67/200\n",
      "70/70 [==============================] - 0s 635us/step - loss: 0.0228 - val_loss: 0.2070\n",
      "Epoch 68/200\n",
      "70/70 [==============================] - 0s 653us/step - loss: 0.0203 - val_loss: 0.2024\n",
      "Epoch 69/200\n",
      "70/70 [==============================] - 0s 605us/step - loss: 0.0204 - val_loss: 0.1945\n",
      "Epoch 70/200\n",
      "70/70 [==============================] - 0s 603us/step - loss: 0.0204 - val_loss: 0.1904\n",
      "Epoch 71/200\n",
      "70/70 [==============================] - 0s 606us/step - loss: 0.0181 - val_loss: 0.1952\n",
      "Epoch 72/200\n",
      "70/70 [==============================] - 0s 613us/step - loss: 0.0179 - val_loss: 0.1943\n",
      "Epoch 73/200\n",
      "70/70 [==============================] - 0s 602us/step - loss: 0.0169 - val_loss: 0.1885\n",
      "Epoch 74/200\n",
      "70/70 [==============================] - 0s 695us/step - loss: 0.0161 - val_loss: 0.1841\n",
      "Epoch 75/200\n",
      "70/70 [==============================] - 0s 617us/step - loss: 0.0165 - val_loss: 0.1851\n",
      "Epoch 76/200\n",
      "70/70 [==============================] - 0s 599us/step - loss: 0.0169 - val_loss: 0.1835\n",
      "Epoch 77/200\n",
      "70/70 [==============================] - 0s 601us/step - loss: 0.0158 - val_loss: 0.1804\n",
      "Epoch 78/200\n",
      "70/70 [==============================] - 0s 594us/step - loss: 0.0149 - val_loss: 0.1770\n",
      "Epoch 79/200\n",
      "70/70 [==============================] - 0s 604us/step - loss: 0.0147 - val_loss: 0.1754\n",
      "Epoch 80/200\n",
      "70/70 [==============================] - 0s 611us/step - loss: 0.0152 - val_loss: 0.1730\n",
      "Epoch 81/200\n",
      "70/70 [==============================] - 0s 617us/step - loss: 0.0176 - val_loss: 0.1697\n",
      "Epoch 82/200\n",
      "70/70 [==============================] - 0s 627us/step - loss: 0.0200 - val_loss: 0.1689\n",
      "Epoch 83/200\n",
      "70/70 [==============================] - 0s 597us/step - loss: 0.0166 - val_loss: 0.1808\n",
      "Epoch 84/200\n",
      "70/70 [==============================] - 0s 598us/step - loss: 0.0163 - val_loss: 0.1833\n",
      "Epoch 85/200\n",
      "70/70 [==============================] - 0s 607us/step - loss: 0.0174 - val_loss: 0.1743\n",
      "Epoch 86/200\n",
      "70/70 [==============================] - 0s 605us/step - loss: 0.0189 - val_loss: 0.1646\n",
      "Epoch 87/200\n",
      "70/70 [==============================] - 0s 668us/step - loss: 0.0181 - val_loss: 0.1671\n",
      "Epoch 88/200\n",
      "70/70 [==============================] - 0s 616us/step - loss: 0.0169 - val_loss: 0.1746\n",
      "Epoch 89/200\n",
      "70/70 [==============================] - 0s 605us/step - loss: 0.0172 - val_loss: 0.1684\n",
      "Epoch 90/200\n",
      "70/70 [==============================] - 0s 615us/step - loss: 0.0152 - val_loss: 0.1600\n",
      "Epoch 91/200\n",
      "70/70 [==============================] - 0s 639us/step - loss: 0.0151 - val_loss: 0.1598\n",
      "Epoch 92/200\n",
      "70/70 [==============================] - 0s 646us/step - loss: 0.0143 - val_loss: 0.1655\n",
      "Epoch 93/200\n",
      "70/70 [==============================] - 0s 651us/step - loss: 0.0142 - val_loss: 0.1629\n",
      "Epoch 94/200\n",
      "70/70 [==============================] - 0s 617us/step - loss: 0.0131 - val_loss: 0.1572\n",
      "Epoch 95/200\n",
      "70/70 [==============================] - 0s 629us/step - loss: 0.0131 - val_loss: 0.1549\n",
      "Epoch 96/200\n",
      "70/70 [==============================] - 0s 638us/step - loss: 0.0130 - val_loss: 0.1563\n",
      "Epoch 97/200\n",
      "70/70 [==============================] - 0s 641us/step - loss: 0.0124 - val_loss: 0.1545\n",
      "Epoch 98/200\n",
      "70/70 [==============================] - 0s 630us/step - loss: 0.0118 - val_loss: 0.1518\n",
      "Epoch 99/200\n",
      "70/70 [==============================] - 0s 632us/step - loss: 0.0118 - val_loss: 0.1530\n",
      "Epoch 100/200\n",
      "70/70 [==============================] - 0s 730us/step - loss: 0.0124 - val_loss: 0.1546\n",
      "Epoch 101/200\n",
      "70/70 [==============================] - 0s 645us/step - loss: 0.0119 - val_loss: 0.1524\n",
      "Epoch 102/200\n",
      "70/70 [==============================] - 0s 640us/step - loss: 0.0115 - val_loss: 0.1482\n",
      "Epoch 103/200\n",
      "70/70 [==============================] - 0s 618us/step - loss: 0.0116 - val_loss: 0.1461\n",
      "Epoch 104/200\n",
      "70/70 [==============================] - 0s 637us/step - loss: 0.0113 - val_loss: 0.1485\n",
      "Epoch 105/200\n",
      "70/70 [==============================] - 0s 619us/step - loss: 0.0123 - val_loss: 0.1467\n",
      "Epoch 106/200\n",
      "70/70 [==============================] - 0s 626us/step - loss: 0.0130 - val_loss: 0.1434\n",
      "Epoch 107/200\n",
      "70/70 [==============================] - 0s 609us/step - loss: 0.0134 - val_loss: 0.1438\n",
      "Epoch 108/200\n",
      "70/70 [==============================] - 0s 646us/step - loss: 0.0131 - val_loss: 0.1486\n",
      "Epoch 109/200\n",
      "70/70 [==============================] - 0s 644us/step - loss: 0.0126 - val_loss: 0.1492\n",
      "Epoch 110/200\n",
      "70/70 [==============================] - 0s 892us/step - loss: 0.0128 - val_loss: 0.1463\n",
      "Epoch 111/200\n",
      "70/70 [==============================] - 0s 702us/step - loss: 0.0141 - val_loss: 0.1429\n",
      "Epoch 112/200\n",
      "70/70 [==============================] - 0s 723us/step - loss: 0.0141 - val_loss: 0.1451\n",
      "Epoch 113/200\n",
      "70/70 [==============================] - 0s 675us/step - loss: 0.0137 - val_loss: 0.1485\n",
      "Epoch 114/200\n",
      "70/70 [==============================] - 0s 787us/step - loss: 0.0142 - val_loss: 0.1459\n",
      "Epoch 115/200\n",
      "70/70 [==============================] - 0s 701us/step - loss: 0.0144 - val_loss: 0.1403\n",
      "Epoch 116/200\n",
      "70/70 [==============================] - 0s 661us/step - loss: 0.0128 - val_loss: 0.1444\n",
      "Epoch 117/200\n",
      "70/70 [==============================] - 0s 709us/step - loss: 0.0134 - val_loss: 0.1465\n",
      "Epoch 118/200\n",
      "70/70 [==============================] - 0s 608us/step - loss: 0.0123 - val_loss: 0.1394\n",
      "Epoch 119/200\n",
      "70/70 [==============================] - 0s 609us/step - loss: 0.0120 - val_loss: 0.1327\n",
      "Epoch 120/200\n",
      "70/70 [==============================] - 0s 701us/step - loss: 0.0124 - val_loss: 0.1327\n",
      "Epoch 121/200\n",
      "70/70 [==============================] - 0s 646us/step - loss: 0.0127 - val_loss: 0.1405\n",
      "Epoch 122/200\n",
      "70/70 [==============================] - 0s 714us/step - loss: 0.0121 - val_loss: 0.1410\n",
      "Epoch 123/200\n",
      "70/70 [==============================] - 0s 649us/step - loss: 0.0113 - val_loss: 0.1322\n",
      "Epoch 124/200\n",
      "70/70 [==============================] - 0s 657us/step - loss: 0.0111 - val_loss: 0.1304\n",
      "Epoch 125/200\n",
      "70/70 [==============================] - 0s 674us/step - loss: 0.0117 - val_loss: 0.1344\n",
      "Epoch 126/200\n",
      "70/70 [==============================] - 0s 659us/step - loss: 0.0112 - val_loss: 0.1428\n",
      "Epoch 127/200\n",
      "70/70 [==============================] - 0s 666us/step - loss: 0.0119 - val_loss: 0.1390\n",
      "Epoch 128/200\n",
      "70/70 [==============================] - 0s 640us/step - loss: 0.0121 - val_loss: 0.1345\n",
      "Epoch 129/200\n",
      "70/70 [==============================] - 0s 612us/step - loss: 0.0127 - val_loss: 0.1365\n",
      "Epoch 130/200\n",
      "70/70 [==============================] - 0s 651us/step - loss: 0.0122 - val_loss: 0.1414\n",
      "Epoch 131/200\n",
      "70/70 [==============================] - 0s 962us/step - loss: 0.0126 - val_loss: 0.1342\n",
      "Epoch 132/200\n",
      "70/70 [==============================] - 0s 632us/step - loss: 0.0115 - val_loss: 0.1302\n",
      "Epoch 133/200\n",
      "70/70 [==============================] - 0s 916us/step - loss: 0.0122 - val_loss: 0.1294\n",
      "Epoch 134/200\n",
      "70/70 [==============================] - 0s 694us/step - loss: 0.0126 - val_loss: 0.1377\n",
      "Epoch 135/200\n",
      "70/70 [==============================] - 0s 624us/step - loss: 0.0140 - val_loss: 0.1333\n",
      "Epoch 136/200\n",
      "70/70 [==============================] - 0s 611us/step - loss: 0.0115 - val_loss: 0.1296\n",
      "Epoch 137/200\n",
      "70/70 [==============================] - 0s 620us/step - loss: 0.0113 - val_loss: 0.1264\n",
      "Epoch 138/200\n",
      "70/70 [==============================] - 0s 616us/step - loss: 0.0110 - val_loss: 0.1345\n",
      "Epoch 139/200\n",
      "70/70 [==============================] - 0s 598us/step - loss: 0.0125 - val_loss: 0.1405\n",
      "Epoch 140/200\n",
      "70/70 [==============================] - 0s 628us/step - loss: 0.0126 - val_loss: 0.1359\n",
      "Epoch 141/200\n",
      "70/70 [==============================] - 0s 602us/step - loss: 0.0106 - val_loss: 0.1293\n",
      "Epoch 142/200\n",
      "70/70 [==============================] - 0s 626us/step - loss: 0.0117 - val_loss: 0.1273\n",
      "Epoch 143/200\n",
      "70/70 [==============================] - 0s 638us/step - loss: 0.0121 - val_loss: 0.1293\n",
      "Epoch 144/200\n",
      "70/70 [==============================] - 0s 603us/step - loss: 0.0117 - val_loss: 0.1342\n",
      "Epoch 145/200\n",
      "70/70 [==============================] - 0s 618us/step - loss: 0.0121 - val_loss: 0.1261\n",
      "Epoch 146/200\n",
      "70/70 [==============================] - 0s 615us/step - loss: 0.0098 - val_loss: 0.1246\n",
      "Epoch 147/200\n",
      "70/70 [==============================] - 0s 673us/step - loss: 0.0106 - val_loss: 0.1272\n",
      "Epoch 148/200\n",
      "70/70 [==============================] - 0s 599us/step - loss: 0.0115 - val_loss: 0.1352\n",
      "Epoch 149/200\n",
      "70/70 [==============================] - 0s 617us/step - loss: 0.0110 - val_loss: 0.1361\n",
      "Epoch 150/200\n",
      "70/70 [==============================] - 0s 603us/step - loss: 0.0095 - val_loss: 0.1285\n",
      "Epoch 151/200\n",
      "70/70 [==============================] - 0s 610us/step - loss: 0.0097 - val_loss: 0.1196\n",
      "Epoch 152/200\n",
      "70/70 [==============================] - 0s 605us/step - loss: 0.0109 - val_loss: 0.1197\n",
      "Epoch 153/200\n",
      "70/70 [==============================] - 0s 597us/step - loss: 0.0105 - val_loss: 0.1255\n",
      "Epoch 154/200\n",
      "70/70 [==============================] - 0s 613us/step - loss: 0.0101 - val_loss: 0.1313\n",
      "Epoch 155/200\n",
      "70/70 [==============================] - 0s 596us/step - loss: 0.0101 - val_loss: 0.1280\n",
      "Epoch 156/200\n",
      "70/70 [==============================] - 0s 615us/step - loss: 0.0103 - val_loss: 0.1244\n",
      "Epoch 157/200\n",
      "70/70 [==============================] - 0s 602us/step - loss: 0.0104 - val_loss: 0.1224\n",
      "Epoch 158/200\n",
      "70/70 [==============================] - 0s 603us/step - loss: 0.0110 - val_loss: 0.1288\n",
      "Epoch 159/200\n",
      "70/70 [==============================] - 0s 612us/step - loss: 0.0111 - val_loss: 0.1311\n",
      "Epoch 160/200\n",
      "70/70 [==============================] - 0s 592us/step - loss: 0.0114 - val_loss: 0.1299\n",
      "Epoch 161/200\n",
      "70/70 [==============================] - 0s 677us/step - loss: 0.0110 - val_loss: 0.1222\n",
      "Epoch 162/200\n",
      "70/70 [==============================] - 0s 621us/step - loss: 0.0115 - val_loss: 0.1227\n",
      "Epoch 163/200\n",
      "70/70 [==============================] - 0s 595us/step - loss: 0.0127 - val_loss: 0.1256\n",
      "Epoch 164/200\n",
      "70/70 [==============================] - 0s 617us/step - loss: 0.0121 - val_loss: 0.1287\n",
      "Epoch 165/200\n",
      "70/70 [==============================] - 0s 607us/step - loss: 0.0128 - val_loss: 0.1228\n",
      "Epoch 166/200\n",
      "70/70 [==============================] - 0s 599us/step - loss: 0.0114 - val_loss: 0.1235\n",
      "Epoch 167/200\n",
      "70/70 [==============================] - 0s 611us/step - loss: 0.0113 - val_loss: 0.1266\n",
      "Epoch 168/200\n",
      "70/70 [==============================] - 0s 618us/step - loss: 0.0104 - val_loss: 0.1323\n",
      "Epoch 169/200\n",
      "70/70 [==============================] - 0s 613us/step - loss: 0.0115 - val_loss: 0.1262\n",
      "Epoch 170/200\n",
      "70/70 [==============================] - 0s 614us/step - loss: 0.0109 - val_loss: 0.1213\n",
      "Epoch 171/200\n",
      "70/70 [==============================] - 0s 608us/step - loss: 0.0104 - val_loss: 0.1206\n",
      "Epoch 172/200\n",
      "70/70 [==============================] - 0s 622us/step - loss: 0.0104 - val_loss: 0.1250\n",
      "Epoch 173/200\n",
      "70/70 [==============================] - 0s 618us/step - loss: 0.0102 - val_loss: 0.1212\n",
      "Epoch 174/200\n",
      "70/70 [==============================] - 0s 679us/step - loss: 0.0095 - val_loss: 0.1227\n",
      "Epoch 175/200\n",
      "70/70 [==============================] - 0s 593us/step - loss: 0.0115 - val_loss: 0.1168\n",
      "Epoch 176/200\n",
      "70/70 [==============================] - 0s 618us/step - loss: 0.0095 - val_loss: 0.1242\n",
      "Epoch 177/200\n",
      "70/70 [==============================] - 0s 606us/step - loss: 0.0106 - val_loss: 0.1238\n",
      "Epoch 178/200\n",
      "70/70 [==============================] - 0s 618us/step - loss: 0.0094 - val_loss: 0.1243\n",
      "Epoch 179/200\n",
      "70/70 [==============================] - 0s 602us/step - loss: 0.0102 - val_loss: 0.1219\n",
      "Epoch 180/200\n",
      "70/70 [==============================] - 0s 618us/step - loss: 0.0109 - val_loss: 0.1222\n",
      "Epoch 181/200\n",
      "70/70 [==============================] - 0s 617us/step - loss: 0.0094 - val_loss: 0.1209\n",
      "Epoch 182/200\n",
      "70/70 [==============================] - 0s 601us/step - loss: 0.0100 - val_loss: 0.1215\n",
      "Epoch 183/200\n",
      "70/70 [==============================] - 0s 609us/step - loss: 0.0099 - val_loss: 0.1207\n",
      "Epoch 184/200\n",
      "70/70 [==============================] - 0s 608us/step - loss: 0.0093 - val_loss: 0.1251\n",
      "Epoch 185/200\n",
      "70/70 [==============================] - 0s 598us/step - loss: 0.0103 - val_loss: 0.1193\n",
      "Epoch 186/200\n",
      "70/70 [==============================] - 0s 624us/step - loss: 0.0110 - val_loss: 0.1146\n",
      "Epoch 187/200\n",
      "70/70 [==============================] - 0s 764us/step - loss: 0.0104 - val_loss: 0.1162\n",
      "Epoch 188/200\n",
      "70/70 [==============================] - 0s 692us/step - loss: 0.0101 - val_loss: 0.1265\n",
      "Epoch 189/200\n",
      "70/70 [==============================] - 0s 603us/step - loss: 0.0112 - val_loss: 0.1259\n",
      "Epoch 190/200\n",
      "70/70 [==============================] - 0s 596us/step - loss: 0.0108 - val_loss: 0.1193\n",
      "Epoch 191/200\n",
      "70/70 [==============================] - 0s 814us/step - loss: 0.0099 - val_loss: 0.1121\n",
      "Epoch 192/200\n",
      "70/70 [==============================] - 0s 677us/step - loss: 0.0101 - val_loss: 0.1169\n",
      "Epoch 193/200\n",
      "70/70 [==============================] - 0s 610us/step - loss: 0.0104 - val_loss: 0.1247\n",
      "Epoch 194/200\n",
      "70/70 [==============================] - 0s 621us/step - loss: 0.0094 - val_loss: 0.1326\n",
      "Epoch 195/200\n",
      "70/70 [==============================] - 0s 585us/step - loss: 0.0106 - val_loss: 0.1205\n",
      "Epoch 196/200\n",
      "70/70 [==============================] - 0s 618us/step - loss: 0.0110 - val_loss: 0.1135\n",
      "Epoch 197/200\n",
      "70/70 [==============================] - 0s 606us/step - loss: 0.0110 - val_loss: 0.1175\n",
      "Epoch 198/200\n",
      "70/70 [==============================] - 0s 614us/step - loss: 0.0113 - val_loss: 0.1303\n",
      "Epoch 199/200\n",
      "70/70 [==============================] - 0s 618us/step - loss: 0.0107 - val_loss: 0.1254\n",
      "Epoch 200/200\n",
      "70/70 [==============================] - 0s 587us/step - loss: 0.0099 - val_loss: 0.1160\n"
     ]
    },
    {
     "data": {
      "text/plain": [
       "<keras.callbacks.History at 0x285d7ed70>"
      ]
     },
     "execution_count": 34,
     "metadata": {},
     "output_type": "execute_result"
    }
   ],
   "source": [
    "autoencoder.fit(x_train, x_train,\n",
    "                epochs=200,\n",
    "                shuffle=False,\n",
    "                validation_data=(x_validate, x_validate))"
   ]
  },
  {
   "cell_type": "code",
   "execution_count": 35,
   "metadata": {},
   "outputs": [
    {
     "name": "stdout",
     "output_type": "stream",
     "text": [
      "2/2 [==============================] - 0s 1ms/step\n"
     ]
    },
    {
     "data": {
      "text/plain": [
       "array([0.11962603, 0.08284784, 0.16496001, 0.06949994])"
      ]
     },
     "execution_count": 35,
     "metadata": {},
     "output_type": "execute_result"
    }
   ],
   "source": [
    "predictions = autoencoder.predict(x_test)\n",
    "np.mean((predictions - x_test) ** 2, axis=(2, 0))"
   ]
  },
  {
   "cell_type": "code",
   "execution_count": 36,
   "metadata": {},
   "outputs": [
    {
     "name": "stdout",
     "output_type": "stream",
     "text": [
      "4/4 [==============================] - 0s 1ms/step\n"
     ]
    },
    {
     "data": {
      "text/plain": [
       "array([0.26882725, 0.10337929, 0.18769833, 0.07234604])"
      ]
     },
     "execution_count": 36,
     "metadata": {},
     "output_type": "execute_result"
    }
   ],
   "source": [
    "predictions = autoencoder.predict(x_anomaly_test)\n",
    "np.mean((predictions - x_anomaly_test) ** 2, axis=(2, 0))"
   ]
  },
  {
   "attachments": {},
   "cell_type": "markdown",
   "metadata": {},
   "source": [
    "### Detect Attack"
   ]
  },
  {
   "cell_type": "code",
   "execution_count": 37,
   "metadata": {},
   "outputs": [],
   "source": [
    "nodeNumberToName = {\n",
    "    0: 'gke-cluster-1-default-pool-a33b274c-9t2g',\n",
    "    1: 'gke-cluster-1-default-pool-a33b274c-g246',\n",
    "    2: 'gke-cluster-1-default-pool-a33b274c-hsm7',\n",
    "    3: 'gke-cluster-1-default-pool-a33b274c-z3f4',\n",
    "}\n",
    "\n",
    "def getNodeName(nodeNumber):\n",
    "    return nodeNumberToName[nodeNumber]"
   ]
  },
  {
   "cell_type": "code",
   "execution_count": 38,
   "metadata": {},
   "outputs": [],
   "source": [
    "def get_attacked_nodes(x, threshold):\n",
    "    predictions = autoencoder.predict(x)\n",
    "    error = np.mean((predictions - x) ** 2, axis=(2, 0))\n",
    "    print(f'error => {error}')\n",
    "    nodeNumbers = np.where(error > threshold)[0]\n",
    "    return [getNodeName(nodeNumber) for nodeNumber in nodeNumbers]"
   ]
  },
  {
   "cell_type": "code",
   "execution_count": 39,
   "metadata": {},
   "outputs": [
    {
     "name": "stdout",
     "output_type": "stream",
     "text": [
      "4/4 [==============================] - 0s 527us/step\n",
      "error => [0.26882725 0.10337929 0.18769833 0.07234604]\n"
     ]
    }
   ],
   "source": [
    "attacked_nodes = get_attacked_nodes(x_anomaly_test, 0.22)"
   ]
  },
  {
   "cell_type": "code",
   "execution_count": 40,
   "metadata": {},
   "outputs": [
    {
     "data": {
      "text/plain": [
       "['gke-cluster-1-default-pool-a33b274c-9t2g']"
      ]
     },
     "execution_count": 40,
     "metadata": {},
     "output_type": "execute_result"
    }
   ],
   "source": [
    "attacked_nodes"
   ]
  },
  {
   "cell_type": "code",
   "execution_count": null,
   "metadata": {},
   "outputs": [],
   "source": []
  }
 ],
 "metadata": {
  "kernelspec": {
   "display_name": "Python 3",
   "language": "python",
   "name": "python3"
  },
  "language_info": {
   "codemirror_mode": {
    "name": "ipython",
    "version": 3
   },
   "file_extension": ".py",
   "mimetype": "text/x-python",
   "name": "python",
   "nbconvert_exporter": "python",
   "pygments_lexer": "ipython3",
   "version": "3.10.10"
  },
  "orig_nbformat": 4
 },
 "nbformat": 4,
 "nbformat_minor": 2
}
